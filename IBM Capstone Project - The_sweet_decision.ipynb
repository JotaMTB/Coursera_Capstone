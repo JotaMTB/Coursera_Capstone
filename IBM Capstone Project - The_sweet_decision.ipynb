{
  "nbformat": 4,
  "nbformat_minor": 0,
  "metadata": {
    "colab": {
      "name": "The sweet decision.ipynb",
      "provenance": [],
      "collapsed_sections": [],
      "authorship_tag": "ABX9TyPZAI+xk6aCduDuWAD5cq1U",
      "include_colab_link": true
    },
    "kernelspec": {
      "name": "python3",
      "display_name": "Python 3"
    }
  },
  "cells": [
    {
      "cell_type": "markdown",
      "metadata": {
        "id": "view-in-github",
        "colab_type": "text"
      },
      "source": [
        "<a href=\"https://colab.research.google.com/github/JotaMTB/Coursera_Capstone/blob/master/IBM%20Capstone%20Project%20-%20The_sweet_decision.ipynb\" target=\"_parent\"><img src=\"https://colab.research.google.com/assets/colab-badge.svg\" alt=\"Open In Colab\"/></a>"
      ]
    },
    {
      "cell_type": "markdown",
      "metadata": {
        "id": "fOuSW_HmxEZ_",
        "colab_type": "text"
      },
      "source": [
        "Capstone Project\n",
        "\n",
        "IBM Data Science on Coursera\n",
        "\n",
        "# The sweet decision\n",
        "A story about how to find the best location for a new bakery."
      ]
    },
    {
      "cell_type": "code",
      "metadata": {
        "id": "w7b5HcoPvPl7",
        "colab_type": "code",
        "colab": {}
      },
      "source": [
        "import pandas as pd\n",
        "import numpy as np"
      ],
      "execution_count": null,
      "outputs": []
    },
    {
      "cell_type": "markdown",
      "metadata": {
        "id": "RWLBUZZgZlKm",
        "colab_type": "text"
      },
      "source": [
        "DataFrame creation from wikipedia web:"
      ]
    },
    {
      "cell_type": "code",
      "metadata": {
        "id": "FVJZTroGUCDd",
        "colab_type": "code",
        "colab": {
          "base_uri": "https://localhost:8080/",
          "height": 221
        },
        "outputId": "0ffa0f14-b097-4bec-a623-7777d793a471"
      },
      "source": [
        "url_madrid = 'https://es.wikipedia.org/wiki/Anexo:Barrios_administrativos_de_Madrid'\n",
        "\n",
        "madrid_data = pd.read_html(url_madrid)\n",
        "df_madrid = pd.DataFrame(madrid_data[0])\n",
        "\n",
        "print(df_madrid.shape)\n",
        "df_madrid.head()"
      ],
      "execution_count": null,
      "outputs": [
        {
          "output_type": "stream",
          "text": [
            "(131, 5)\n"
          ],
          "name": "stdout"
        },
        {
          "output_type": "execute_result",
          "data": {
            "text/html": [
              "<div>\n",
              "<style scoped>\n",
              "    .dataframe tbody tr th:only-of-type {\n",
              "        vertical-align: middle;\n",
              "    }\n",
              "\n",
              "    .dataframe tbody tr th {\n",
              "        vertical-align: top;\n",
              "    }\n",
              "\n",
              "    .dataframe thead th {\n",
              "        text-align: right;\n",
              "    }\n",
              "</style>\n",
              "<table border=\"1\" class=\"dataframe\">\n",
              "  <thead>\n",
              "    <tr style=\"text-align: right;\">\n",
              "      <th></th>\n",
              "      <th>Distrito</th>\n",
              "      <th>Número</th>\n",
              "      <th>Nombre</th>\n",
              "      <th>Superficie (km²)[2]​</th>\n",
              "      <th>Imagen</th>\n",
              "    </tr>\n",
              "  </thead>\n",
              "  <tbody>\n",
              "    <tr>\n",
              "      <th>0</th>\n",
              "      <td>Centro</td>\n",
              "      <td>11</td>\n",
              "      <td>Palacio</td>\n",
              "      <td>1,471 km²</td>\n",
              "      <td>NaN</td>\n",
              "    </tr>\n",
              "    <tr>\n",
              "      <th>1</th>\n",
              "      <td>Centro</td>\n",
              "      <td>12</td>\n",
              "      <td>Embajadores</td>\n",
              "      <td>1,032 km²</td>\n",
              "      <td>NaN</td>\n",
              "    </tr>\n",
              "    <tr>\n",
              "      <th>2</th>\n",
              "      <td>Centro</td>\n",
              "      <td>13</td>\n",
              "      <td>Cortes</td>\n",
              "      <td>0,592 km²</td>\n",
              "      <td>NaN</td>\n",
              "    </tr>\n",
              "    <tr>\n",
              "      <th>3</th>\n",
              "      <td>Centro</td>\n",
              "      <td>14</td>\n",
              "      <td>Justicia</td>\n",
              "      <td>0,742 km²</td>\n",
              "      <td>NaN</td>\n",
              "    </tr>\n",
              "    <tr>\n",
              "      <th>4</th>\n",
              "      <td>Centro</td>\n",
              "      <td>15</td>\n",
              "      <td>Universidad</td>\n",
              "      <td>0,947 km²</td>\n",
              "      <td>NaN</td>\n",
              "    </tr>\n",
              "  </tbody>\n",
              "</table>\n",
              "</div>"
            ],
            "text/plain": [
              "  Distrito  Número       Nombre Superficie (km²)[2]​  Imagen\n",
              "0   Centro      11      Palacio            1,471 km²     NaN\n",
              "1   Centro      12  Embajadores            1,032 km²     NaN\n",
              "2   Centro      13       Cortes            0,592 km²     NaN\n",
              "3   Centro      14     Justicia            0,742 km²     NaN\n",
              "4   Centro      15  Universidad            0,947 km²     NaN"
            ]
          },
          "metadata": {
            "tags": []
          },
          "execution_count": 54
        }
      ]
    },
    {
      "cell_type": "markdown",
      "metadata": {
        "id": "XxjPHYHMZ2se",
        "colab_type": "text"
      },
      "source": [
        "DataFrame cleaning:"
      ]
    },
    {
      "cell_type": "code",
      "metadata": {
        "id": "i6c3pZk4V6ZO",
        "colab_type": "code",
        "colab": {
          "base_uri": "https://localhost:8080/",
          "height": 204
        },
        "outputId": "6d72586b-f35f-4589-ba56-6be43c5193b6"
      },
      "source": [
        "df_madrid.drop(['Imagen', 'Número'], axis=1, inplace=True)\n",
        "df_madrid.head()"
      ],
      "execution_count": null,
      "outputs": [
        {
          "output_type": "execute_result",
          "data": {
            "text/html": [
              "<div>\n",
              "<style scoped>\n",
              "    .dataframe tbody tr th:only-of-type {\n",
              "        vertical-align: middle;\n",
              "    }\n",
              "\n",
              "    .dataframe tbody tr th {\n",
              "        vertical-align: top;\n",
              "    }\n",
              "\n",
              "    .dataframe thead th {\n",
              "        text-align: right;\n",
              "    }\n",
              "</style>\n",
              "<table border=\"1\" class=\"dataframe\">\n",
              "  <thead>\n",
              "    <tr style=\"text-align: right;\">\n",
              "      <th></th>\n",
              "      <th>Distrito</th>\n",
              "      <th>Nombre</th>\n",
              "      <th>Superficie (km²)[2]​</th>\n",
              "    </tr>\n",
              "  </thead>\n",
              "  <tbody>\n",
              "    <tr>\n",
              "      <th>0</th>\n",
              "      <td>Centro</td>\n",
              "      <td>Palacio</td>\n",
              "      <td>1,471 km²</td>\n",
              "    </tr>\n",
              "    <tr>\n",
              "      <th>1</th>\n",
              "      <td>Centro</td>\n",
              "      <td>Embajadores</td>\n",
              "      <td>1,032 km²</td>\n",
              "    </tr>\n",
              "    <tr>\n",
              "      <th>2</th>\n",
              "      <td>Centro</td>\n",
              "      <td>Cortes</td>\n",
              "      <td>0,592 km²</td>\n",
              "    </tr>\n",
              "    <tr>\n",
              "      <th>3</th>\n",
              "      <td>Centro</td>\n",
              "      <td>Justicia</td>\n",
              "      <td>0,742 km²</td>\n",
              "    </tr>\n",
              "    <tr>\n",
              "      <th>4</th>\n",
              "      <td>Centro</td>\n",
              "      <td>Universidad</td>\n",
              "      <td>0,947 km²</td>\n",
              "    </tr>\n",
              "  </tbody>\n",
              "</table>\n",
              "</div>"
            ],
            "text/plain": [
              "  Distrito       Nombre Superficie (km²)[2]​\n",
              "0   Centro      Palacio            1,471 km²\n",
              "1   Centro  Embajadores            1,032 km²\n",
              "2   Centro       Cortes            0,592 km²\n",
              "3   Centro     Justicia            0,742 km²\n",
              "4   Centro  Universidad            0,947 km²"
            ]
          },
          "metadata": {
            "tags": []
          },
          "execution_count": 55
        }
      ]
    },
    {
      "cell_type": "code",
      "metadata": {
        "id": "Kwg-UMH-WcaQ",
        "colab_type": "code",
        "colab": {
          "base_uri": "https://localhost:8080/",
          "height": 204
        },
        "outputId": "7402eb2d-68ef-495d-8ca9-229bf289a141"
      },
      "source": [
        "df_madrid.rename(columns={'Distrito':'Borough', 'Nombre':'Neighborhood', 'Superficie (km²)[2]​':'Area (km^2)'}, inplace=True)\n",
        "df_madrid.head()"
      ],
      "execution_count": null,
      "outputs": [
        {
          "output_type": "execute_result",
          "data": {
            "text/html": [
              "<div>\n",
              "<style scoped>\n",
              "    .dataframe tbody tr th:only-of-type {\n",
              "        vertical-align: middle;\n",
              "    }\n",
              "\n",
              "    .dataframe tbody tr th {\n",
              "        vertical-align: top;\n",
              "    }\n",
              "\n",
              "    .dataframe thead th {\n",
              "        text-align: right;\n",
              "    }\n",
              "</style>\n",
              "<table border=\"1\" class=\"dataframe\">\n",
              "  <thead>\n",
              "    <tr style=\"text-align: right;\">\n",
              "      <th></th>\n",
              "      <th>Borough</th>\n",
              "      <th>Neighborhood</th>\n",
              "      <th>Area (km^2)</th>\n",
              "    </tr>\n",
              "  </thead>\n",
              "  <tbody>\n",
              "    <tr>\n",
              "      <th>0</th>\n",
              "      <td>Centro</td>\n",
              "      <td>Palacio</td>\n",
              "      <td>1,471 km²</td>\n",
              "    </tr>\n",
              "    <tr>\n",
              "      <th>1</th>\n",
              "      <td>Centro</td>\n",
              "      <td>Embajadores</td>\n",
              "      <td>1,032 km²</td>\n",
              "    </tr>\n",
              "    <tr>\n",
              "      <th>2</th>\n",
              "      <td>Centro</td>\n",
              "      <td>Cortes</td>\n",
              "      <td>0,592 km²</td>\n",
              "    </tr>\n",
              "    <tr>\n",
              "      <th>3</th>\n",
              "      <td>Centro</td>\n",
              "      <td>Justicia</td>\n",
              "      <td>0,742 km²</td>\n",
              "    </tr>\n",
              "    <tr>\n",
              "      <th>4</th>\n",
              "      <td>Centro</td>\n",
              "      <td>Universidad</td>\n",
              "      <td>0,947 km²</td>\n",
              "    </tr>\n",
              "  </tbody>\n",
              "</table>\n",
              "</div>"
            ],
            "text/plain": [
              "  Borough Neighborhood Area (km^2)\n",
              "0  Centro      Palacio   1,471 km²\n",
              "1  Centro  Embajadores   1,032 km²\n",
              "2  Centro       Cortes   0,592 km²\n",
              "3  Centro     Justicia   0,742 km²\n",
              "4  Centro  Universidad   0,947 km²"
            ]
          },
          "metadata": {
            "tags": []
          },
          "execution_count": 56
        }
      ]
    },
    {
      "cell_type": "code",
      "metadata": {
        "id": "J2BsQW5nZ-w6",
        "colab_type": "code",
        "colab": {
          "base_uri": "https://localhost:8080/",
          "height": 187
        },
        "outputId": "689f52fe-ddc9-4c1d-88bf-f94e2216f12f"
      },
      "source": [
        "df_madrid.info()"
      ],
      "execution_count": null,
      "outputs": [
        {
          "output_type": "stream",
          "text": [
            "<class 'pandas.core.frame.DataFrame'>\n",
            "RangeIndex: 131 entries, 0 to 130\n",
            "Data columns (total 3 columns):\n",
            " #   Column        Non-Null Count  Dtype \n",
            "---  ------        --------------  ----- \n",
            " 0   Borough       131 non-null    object\n",
            " 1   Neighborhood  131 non-null    object\n",
            " 2   Area (km^2)   131 non-null    object\n",
            "dtypes: object(3)\n",
            "memory usage: 3.2+ KB\n"
          ],
          "name": "stdout"
        }
      ]
    },
    {
      "cell_type": "markdown",
      "metadata": {
        "id": "s_l1JkPmaRMR",
        "colab_type": "text"
      },
      "source": [
        "Collecting the URLs from every neighborhood to extract the coordinates (latitude and logitude):"
      ]
    },
    {
      "cell_type": "code",
      "metadata": {
        "id": "Qpg3tEb3Fzqy",
        "colab_type": "code",
        "colab": {
          "base_uri": "https://localhost:8080/",
          "height": 102
        },
        "outputId": "2dd1dcef-0acb-46a2-ef8e-f8aa1b3bf52a"
      },
      "source": [
        "from urllib.request import urlopen\n",
        "from bs4 import BeautifulSoup\n",
        "\n",
        "r = urlopen(\"https://es.wikipedia.org/wiki/Anexo:Barrios_administrativos_de_Madrid\")\n",
        "bs = BeautifulSoup(r.read(), \"html.parser\")\n",
        "r.close()\n",
        "\n",
        "url_list = []\n",
        "\n",
        "for link in bs.find_all(\"a\"):\n",
        "    #print(link.get(\"href\"))\n",
        "    url_list.append(link.get(\"href\"))\n",
        "\n",
        "url_list_mad = url_list[15:316]\n",
        "\n",
        "url_list_mad[0:5]"
      ],
      "execution_count": null,
      "outputs": [
        {
          "output_type": "execute_result",
          "data": {
            "text/plain": [
              "['/wiki/Palacio_(Madrid)',\n",
              " '/wiki/Archivo:Barrio_de_Palacio_(11),_Madrid.svg',\n",
              " '/wiki/Embajadores_(Madrid)',\n",
              " '/wiki/Archivo:Barrio_de_Embajadores_(12),_Madrid.svg',\n",
              " '/wiki/Cortes_(Madrid)']"
            ]
          },
          "metadata": {
            "tags": []
          },
          "execution_count": 58
        }
      ]
    },
    {
      "cell_type": "markdown",
      "metadata": {
        "id": "tbVNKU2Har3F",
        "colab_type": "text"
      },
      "source": [
        "* I have exported the list '**url_list_mad**'.\n",
        "* Then, I have cleaned the list using a text editor.\n",
        "* Finally, I have upload the list to GitHub.\n",
        "* Now, I am going to import de list:"
      ]
    },
    {
      "cell_type": "code",
      "metadata": {
        "id": "V4LmdT1Tb419",
        "colab_type": "code",
        "colab": {
          "base_uri": "https://localhost:8080/",
          "height": 221
        },
        "outputId": "94565e13-3a74-4fb9-f5eb-2a785b169aa4"
      },
      "source": [
        "url_list = 'https://raw.githubusercontent.com/JotaMTB/Archivos_auxiliares/master/url_wiki_madrid_neighborhoods.csv'\n",
        "\n",
        "neighborhoods_imported = pd.read_csv(url_list, header=None)\n",
        "print(neighborhoods_imported.shape)\n",
        "neighborhoods_imported.head()"
      ],
      "execution_count": null,
      "outputs": [
        {
          "output_type": "stream",
          "text": [
            "(131, 1)\n"
          ],
          "name": "stdout"
        },
        {
          "output_type": "execute_result",
          "data": {
            "text/html": [
              "<div>\n",
              "<style scoped>\n",
              "    .dataframe tbody tr th:only-of-type {\n",
              "        vertical-align: middle;\n",
              "    }\n",
              "\n",
              "    .dataframe tbody tr th {\n",
              "        vertical-align: top;\n",
              "    }\n",
              "\n",
              "    .dataframe thead th {\n",
              "        text-align: right;\n",
              "    }\n",
              "</style>\n",
              "<table border=\"1\" class=\"dataframe\">\n",
              "  <thead>\n",
              "    <tr style=\"text-align: right;\">\n",
              "      <th></th>\n",
              "      <th>0</th>\n",
              "    </tr>\n",
              "  </thead>\n",
              "  <tbody>\n",
              "    <tr>\n",
              "      <th>0</th>\n",
              "      <td>/wiki/Palacio_(Madrid)</td>\n",
              "    </tr>\n",
              "    <tr>\n",
              "      <th>1</th>\n",
              "      <td>/wiki/Embajadores_(Madrid)</td>\n",
              "    </tr>\n",
              "    <tr>\n",
              "      <th>2</th>\n",
              "      <td>/wiki/Cortes_(Madrid)</td>\n",
              "    </tr>\n",
              "    <tr>\n",
              "      <th>3</th>\n",
              "      <td>/wiki/Justicia_(Madrid)</td>\n",
              "    </tr>\n",
              "    <tr>\n",
              "      <th>4</th>\n",
              "      <td>/wiki/Universidad_(Madrid)</td>\n",
              "    </tr>\n",
              "  </tbody>\n",
              "</table>\n",
              "</div>"
            ],
            "text/plain": [
              "                             0\n",
              "0       /wiki/Palacio_(Madrid)\n",
              "1   /wiki/Embajadores_(Madrid)\n",
              "2        /wiki/Cortes_(Madrid)\n",
              "3      /wiki/Justicia_(Madrid)\n",
              "4   /wiki/Universidad_(Madrid)"
            ]
          },
          "metadata": {
            "tags": []
          },
          "execution_count": 59
        }
      ]
    },
    {
      "cell_type": "code",
      "metadata": {
        "id": "WPyKYeVTdD2w",
        "colab_type": "code",
        "colab": {
          "base_uri": "https://localhost:8080/",
          "height": 119
        },
        "outputId": "d6390c99-61f1-4dd3-9542-e3890e3da736"
      },
      "source": [
        "neighborhoods_list = neighborhoods_imported[0].tolist()\n",
        "\n",
        "for i, url in enumerate(neighborhoods_list):\n",
        "  neighborhoods_list[i] = url.strip()\n",
        "\n",
        "print(len(neighborhoods_list))\n",
        "neighborhoods_list[0:5]"
      ],
      "execution_count": null,
      "outputs": [
        {
          "output_type": "stream",
          "text": [
            "131\n"
          ],
          "name": "stdout"
        },
        {
          "output_type": "execute_result",
          "data": {
            "text/plain": [
              "['/wiki/Palacio_(Madrid)',\n",
              " '/wiki/Embajadores_(Madrid)',\n",
              " '/wiki/Cortes_(Madrid)',\n",
              " '/wiki/Justicia_(Madrid)',\n",
              " '/wiki/Universidad_(Madrid)']"
            ]
          },
          "metadata": {
            "tags": []
          },
          "execution_count": 60
        }
      ]
    },
    {
      "cell_type": "markdown",
      "metadata": {
        "id": "zdx8nu33ggrB",
        "colab_type": "text"
      },
      "source": [
        "Extract latitude and longitude from webs. Then, add the information to the DataFrame:"
      ]
    },
    {
      "cell_type": "code",
      "metadata": {
        "id": "-2VoocpeR3P6",
        "colab_type": "code",
        "colab": {}
      },
      "source": [
        "url_path = 'https://es.wikipedia.org'\n",
        "\n",
        "coor_list = []\n",
        "\n",
        "for i in range(len(neighborhoods_list)):\n",
        "  url = url_path + neighborhoods_list[i]\n",
        "  url_data = pd.read_html(url)\n",
        "  df = pd.DataFrame(url_data[0])\n",
        "\n",
        "  if df.shape[0] > 1:\n",
        "    pass\n",
        "  else:\n",
        "    df = pd.DataFrame(url_data[1])\n",
        "\n",
        "  column_list = df.columns.tolist()\n",
        "  column_1_list = df[column_list[0]].tolist()\n",
        "  column_2_list = df[column_list[1]].tolist()\n",
        "\n",
        "  for n in range(len(column_1_list)):\n",
        "    if column_1_list[n] == 'Ubicación' or column_1_list[n] == 'Coordenadas':\n",
        "      coordinate = column_2_list[n]\n",
        "      break\n",
        "\n",
        "  coor_list.append(coordinate)"
      ],
      "execution_count": null,
      "outputs": []
    },
    {
      "cell_type": "code",
      "metadata": {
        "id": "W0tFIm3MSjgt",
        "colab_type": "code",
        "colab": {}
      },
      "source": [
        "latitude_list = []\n",
        "longitude_list = []\n",
        "\n",
        "for coordenates in coor_list:\n",
        "  coors = coordenates.split(' ')\n",
        "  latitude = coors[-2].replace(',', '')\n",
        "  latitude = float(latitude[1:-1])\n",
        "  longitude = float(coors[-1])\n",
        "\n",
        "  latitude_list.append(round(latitude, 4))\n",
        "  longitude_list.append(round(longitude, 4))"
      ],
      "execution_count": null,
      "outputs": []
    },
    {
      "cell_type": "code",
      "metadata": {
        "id": "mMa2LHfrV-sm",
        "colab_type": "code",
        "colab": {
          "base_uri": "https://localhost:8080/",
          "height": 34
        },
        "outputId": "d3533b0a-438c-4c64-e585-f631b3084093"
      },
      "source": [
        "print(len(longitude_list), len(latitude_list))"
      ],
      "execution_count": null,
      "outputs": [
        {
          "output_type": "stream",
          "text": [
            "131 131\n"
          ],
          "name": "stdout"
        }
      ]
    },
    {
      "cell_type": "code",
      "metadata": {
        "id": "Ex3yTp0ifjPw",
        "colab_type": "code",
        "colab": {
          "base_uri": "https://localhost:8080/",
          "height": 204
        },
        "outputId": "ebe8f17c-7090-45c3-8b85-216f9f6bd609"
      },
      "source": [
        "df_madrid['Latitude'] = latitude_list\n",
        "df_madrid['Longitude'] = longitude_list\n",
        "\n",
        "df_madrid.head(5)"
      ],
      "execution_count": null,
      "outputs": [
        {
          "output_type": "execute_result",
          "data": {
            "text/html": [
              "<div>\n",
              "<style scoped>\n",
              "    .dataframe tbody tr th:only-of-type {\n",
              "        vertical-align: middle;\n",
              "    }\n",
              "\n",
              "    .dataframe tbody tr th {\n",
              "        vertical-align: top;\n",
              "    }\n",
              "\n",
              "    .dataframe thead th {\n",
              "        text-align: right;\n",
              "    }\n",
              "</style>\n",
              "<table border=\"1\" class=\"dataframe\">\n",
              "  <thead>\n",
              "    <tr style=\"text-align: right;\">\n",
              "      <th></th>\n",
              "      <th>Borough</th>\n",
              "      <th>Neighborhood</th>\n",
              "      <th>Area (km^2)</th>\n",
              "      <th>Latitude</th>\n",
              "      <th>Longitude</th>\n",
              "    </tr>\n",
              "  </thead>\n",
              "  <tbody>\n",
              "    <tr>\n",
              "      <th>0</th>\n",
              "      <td>Centro</td>\n",
              "      <td>Palacio</td>\n",
              "      <td>1,471 km²</td>\n",
              "      <td>40.4100</td>\n",
              "      <td>-3.7133</td>\n",
              "    </tr>\n",
              "    <tr>\n",
              "      <th>1</th>\n",
              "      <td>Centro</td>\n",
              "      <td>Embajadores</td>\n",
              "      <td>1,032 km²</td>\n",
              "      <td>40.4089</td>\n",
              "      <td>-3.6997</td>\n",
              "    </tr>\n",
              "    <tr>\n",
              "      <th>2</th>\n",
              "      <td>Centro</td>\n",
              "      <td>Cortes</td>\n",
              "      <td>0,592 km²</td>\n",
              "      <td>40.4142</td>\n",
              "      <td>-3.6981</td>\n",
              "    </tr>\n",
              "    <tr>\n",
              "      <th>3</th>\n",
              "      <td>Centro</td>\n",
              "      <td>Justicia</td>\n",
              "      <td>0,742 km²</td>\n",
              "      <td>40.4239</td>\n",
              "      <td>-3.6964</td>\n",
              "    </tr>\n",
              "    <tr>\n",
              "      <th>4</th>\n",
              "      <td>Centro</td>\n",
              "      <td>Universidad</td>\n",
              "      <td>0,947 km²</td>\n",
              "      <td>40.4253</td>\n",
              "      <td>-3.7083</td>\n",
              "    </tr>\n",
              "  </tbody>\n",
              "</table>\n",
              "</div>"
            ],
            "text/plain": [
              "  Borough Neighborhood Area (km^2)  Latitude  Longitude\n",
              "0  Centro      Palacio   1,471 km²   40.4100    -3.7133\n",
              "1  Centro  Embajadores   1,032 km²   40.4089    -3.6997\n",
              "2  Centro       Cortes   0,592 km²   40.4142    -3.6981\n",
              "3  Centro     Justicia   0,742 km²   40.4239    -3.6964\n",
              "4  Centro  Universidad   0,947 km²   40.4253    -3.7083"
            ]
          },
          "metadata": {
            "tags": []
          },
          "execution_count": 64
        }
      ]
    },
    {
      "cell_type": "markdown",
      "metadata": {
        "id": "YgxrIDX-TFUe",
        "colab_type": "text"
      },
      "source": [
        "Import the dataset of population in Madrid:"
      ]
    },
    {
      "cell_type": "code",
      "metadata": {
        "id": "Hr5ZcPe5Sl8E",
        "colab_type": "code",
        "colab": {
          "base_uri": "https://localhost:8080/",
          "height": 221
        },
        "outputId": "665a7fa3-4bb0-44f5-abc3-69f9b868f3d9"
      },
      "source": [
        "url_population = 'https://raw.githubusercontent.com/JotaMTB/Archivos_auxiliares/master/People%20living%20in%20Madrid.csv'\n",
        "\n",
        "df_people = pd.read_csv(url_population, sep=';', encoding='ISO-8859-1')\n",
        "\n",
        "print(df_people.shape)\n",
        "df_people.head()"
      ],
      "execution_count": null,
      "outputs": [
        {
          "output_type": "stream",
          "text": [
            "(131, 2)\n"
          ],
          "name": "stdout"
        },
        {
          "output_type": "execute_result",
          "data": {
            "text/html": [
              "<div>\n",
              "<style scoped>\n",
              "    .dataframe tbody tr th:only-of-type {\n",
              "        vertical-align: middle;\n",
              "    }\n",
              "\n",
              "    .dataframe tbody tr th {\n",
              "        vertical-align: top;\n",
              "    }\n",
              "\n",
              "    .dataframe thead th {\n",
              "        text-align: right;\n",
              "    }\n",
              "</style>\n",
              "<table border=\"1\" class=\"dataframe\">\n",
              "  <thead>\n",
              "    <tr style=\"text-align: right;\">\n",
              "      <th></th>\n",
              "      <th>Neighborhood</th>\n",
              "      <th>People</th>\n",
              "    </tr>\n",
              "  </thead>\n",
              "  <tbody>\n",
              "    <tr>\n",
              "      <th>0</th>\n",
              "      <td>PALACIO</td>\n",
              "      <td>23695</td>\n",
              "    </tr>\n",
              "    <tr>\n",
              "      <th>1</th>\n",
              "      <td>EMBAJADORES</td>\n",
              "      <td>47224</td>\n",
              "    </tr>\n",
              "    <tr>\n",
              "      <th>2</th>\n",
              "      <td>CORTES</td>\n",
              "      <td>10793</td>\n",
              "    </tr>\n",
              "    <tr>\n",
              "      <th>3</th>\n",
              "      <td>JUSTICIA</td>\n",
              "      <td>18092</td>\n",
              "    </tr>\n",
              "    <tr>\n",
              "      <th>4</th>\n",
              "      <td>UNIVERSIDAD</td>\n",
              "      <td>33540</td>\n",
              "    </tr>\n",
              "  </tbody>\n",
              "</table>\n",
              "</div>"
            ],
            "text/plain": [
              "  Neighborhood  People\n",
              "0      PALACIO   23695\n",
              "1  EMBAJADORES   47224\n",
              "2       CORTES   10793\n",
              "3     JUSTICIA   18092\n",
              "4  UNIVERSIDAD   33540"
            ]
          },
          "metadata": {
            "tags": []
          },
          "execution_count": 65
        }
      ]
    },
    {
      "cell_type": "code",
      "metadata": {
        "id": "tmWMTV9mWyLT",
        "colab_type": "code",
        "colab": {
          "base_uri": "https://localhost:8080/",
          "height": 170
        },
        "outputId": "80dbe5de-cbe1-42cf-85b1-cc36dab0060f"
      },
      "source": [
        "df_people.info()"
      ],
      "execution_count": null,
      "outputs": [
        {
          "output_type": "stream",
          "text": [
            "<class 'pandas.core.frame.DataFrame'>\n",
            "RangeIndex: 131 entries, 0 to 130\n",
            "Data columns (total 2 columns):\n",
            " #   Column        Non-Null Count  Dtype \n",
            "---  ------        --------------  ----- \n",
            " 0   Neighborhood  131 non-null    object\n",
            " 1   People        131 non-null    int64 \n",
            "dtypes: int64(1), object(1)\n",
            "memory usage: 2.2+ KB\n"
          ],
          "name": "stdout"
        }
      ]
    },
    {
      "cell_type": "markdown",
      "metadata": {
        "id": "HzoPx60EUy6m",
        "colab_type": "text"
      },
      "source": [
        "Now, I am going to merge the dataframes:"
      ]
    },
    {
      "cell_type": "code",
      "metadata": {
        "id": "P_W00CviY4E4",
        "colab_type": "code",
        "colab": {
          "base_uri": "https://localhost:8080/",
          "height": 204
        },
        "outputId": "642421ff-b586-49d3-e65c-13491ac3374e"
      },
      "source": [
        "people = df_people['People'].tolist()\n",
        "\n",
        "df_madrid['People'] = people\n",
        "df_madrid.head()"
      ],
      "execution_count": null,
      "outputs": [
        {
          "output_type": "execute_result",
          "data": {
            "text/html": [
              "<div>\n",
              "<style scoped>\n",
              "    .dataframe tbody tr th:only-of-type {\n",
              "        vertical-align: middle;\n",
              "    }\n",
              "\n",
              "    .dataframe tbody tr th {\n",
              "        vertical-align: top;\n",
              "    }\n",
              "\n",
              "    .dataframe thead th {\n",
              "        text-align: right;\n",
              "    }\n",
              "</style>\n",
              "<table border=\"1\" class=\"dataframe\">\n",
              "  <thead>\n",
              "    <tr style=\"text-align: right;\">\n",
              "      <th></th>\n",
              "      <th>Borough</th>\n",
              "      <th>Neighborhood</th>\n",
              "      <th>Area (km^2)</th>\n",
              "      <th>Latitude</th>\n",
              "      <th>Longitude</th>\n",
              "      <th>People</th>\n",
              "    </tr>\n",
              "  </thead>\n",
              "  <tbody>\n",
              "    <tr>\n",
              "      <th>0</th>\n",
              "      <td>Centro</td>\n",
              "      <td>Palacio</td>\n",
              "      <td>1,471 km²</td>\n",
              "      <td>40.4100</td>\n",
              "      <td>-3.7133</td>\n",
              "      <td>23695</td>\n",
              "    </tr>\n",
              "    <tr>\n",
              "      <th>1</th>\n",
              "      <td>Centro</td>\n",
              "      <td>Embajadores</td>\n",
              "      <td>1,032 km²</td>\n",
              "      <td>40.4089</td>\n",
              "      <td>-3.6997</td>\n",
              "      <td>47224</td>\n",
              "    </tr>\n",
              "    <tr>\n",
              "      <th>2</th>\n",
              "      <td>Centro</td>\n",
              "      <td>Cortes</td>\n",
              "      <td>0,592 km²</td>\n",
              "      <td>40.4142</td>\n",
              "      <td>-3.6981</td>\n",
              "      <td>10793</td>\n",
              "    </tr>\n",
              "    <tr>\n",
              "      <th>3</th>\n",
              "      <td>Centro</td>\n",
              "      <td>Justicia</td>\n",
              "      <td>0,742 km²</td>\n",
              "      <td>40.4239</td>\n",
              "      <td>-3.6964</td>\n",
              "      <td>18092</td>\n",
              "    </tr>\n",
              "    <tr>\n",
              "      <th>4</th>\n",
              "      <td>Centro</td>\n",
              "      <td>Universidad</td>\n",
              "      <td>0,947 km²</td>\n",
              "      <td>40.4253</td>\n",
              "      <td>-3.7083</td>\n",
              "      <td>33540</td>\n",
              "    </tr>\n",
              "  </tbody>\n",
              "</table>\n",
              "</div>"
            ],
            "text/plain": [
              "  Borough Neighborhood Area (km^2)  Latitude  Longitude  People\n",
              "0  Centro      Palacio   1,471 km²   40.4100    -3.7133   23695\n",
              "1  Centro  Embajadores   1,032 km²   40.4089    -3.6997   47224\n",
              "2  Centro       Cortes   0,592 km²   40.4142    -3.6981   10793\n",
              "3  Centro     Justicia   0,742 km²   40.4239    -3.6964   18092\n",
              "4  Centro  Universidad   0,947 km²   40.4253    -3.7083   33540"
            ]
          },
          "metadata": {
            "tags": []
          },
          "execution_count": 67
        }
      ]
    },
    {
      "cell_type": "code",
      "metadata": {
        "id": "QiTIqfcoZMzo",
        "colab_type": "code",
        "colab": {
          "base_uri": "https://localhost:8080/",
          "height": 238
        },
        "outputId": "58f35371-e246-44f3-cf4e-6de4b45f62c7"
      },
      "source": [
        "df_madrid['People'] = df_madrid['People'].astype('float')\n",
        "df_madrid.info()"
      ],
      "execution_count": null,
      "outputs": [
        {
          "output_type": "stream",
          "text": [
            "<class 'pandas.core.frame.DataFrame'>\n",
            "RangeIndex: 131 entries, 0 to 130\n",
            "Data columns (total 6 columns):\n",
            " #   Column        Non-Null Count  Dtype  \n",
            "---  ------        --------------  -----  \n",
            " 0   Borough       131 non-null    object \n",
            " 1   Neighborhood  131 non-null    object \n",
            " 2   Area (km^2)   131 non-null    object \n",
            " 3   Latitude      131 non-null    float64\n",
            " 4   Longitude     131 non-null    float64\n",
            " 5   People        131 non-null    float64\n",
            "dtypes: float64(3), object(3)\n",
            "memory usage: 6.3+ KB\n"
          ],
          "name": "stdout"
        }
      ]
    },
    {
      "cell_type": "code",
      "metadata": {
        "id": "JajNxYOrat0C",
        "colab_type": "code",
        "colab": {
          "base_uri": "https://localhost:8080/",
          "height": 204
        },
        "outputId": "a682b53a-0089-4d8e-a6c9-7a7ff85411ca"
      },
      "source": [
        "df_madrid.head()"
      ],
      "execution_count": null,
      "outputs": [
        {
          "output_type": "execute_result",
          "data": {
            "text/html": [
              "<div>\n",
              "<style scoped>\n",
              "    .dataframe tbody tr th:only-of-type {\n",
              "        vertical-align: middle;\n",
              "    }\n",
              "\n",
              "    .dataframe tbody tr th {\n",
              "        vertical-align: top;\n",
              "    }\n",
              "\n",
              "    .dataframe thead th {\n",
              "        text-align: right;\n",
              "    }\n",
              "</style>\n",
              "<table border=\"1\" class=\"dataframe\">\n",
              "  <thead>\n",
              "    <tr style=\"text-align: right;\">\n",
              "      <th></th>\n",
              "      <th>Borough</th>\n",
              "      <th>Neighborhood</th>\n",
              "      <th>Area (km^2)</th>\n",
              "      <th>Latitude</th>\n",
              "      <th>Longitude</th>\n",
              "      <th>People</th>\n",
              "    </tr>\n",
              "  </thead>\n",
              "  <tbody>\n",
              "    <tr>\n",
              "      <th>0</th>\n",
              "      <td>Centro</td>\n",
              "      <td>Palacio</td>\n",
              "      <td>1,471 km²</td>\n",
              "      <td>40.4100</td>\n",
              "      <td>-3.7133</td>\n",
              "      <td>23695.0</td>\n",
              "    </tr>\n",
              "    <tr>\n",
              "      <th>1</th>\n",
              "      <td>Centro</td>\n",
              "      <td>Embajadores</td>\n",
              "      <td>1,032 km²</td>\n",
              "      <td>40.4089</td>\n",
              "      <td>-3.6997</td>\n",
              "      <td>47224.0</td>\n",
              "    </tr>\n",
              "    <tr>\n",
              "      <th>2</th>\n",
              "      <td>Centro</td>\n",
              "      <td>Cortes</td>\n",
              "      <td>0,592 km²</td>\n",
              "      <td>40.4142</td>\n",
              "      <td>-3.6981</td>\n",
              "      <td>10793.0</td>\n",
              "    </tr>\n",
              "    <tr>\n",
              "      <th>3</th>\n",
              "      <td>Centro</td>\n",
              "      <td>Justicia</td>\n",
              "      <td>0,742 km²</td>\n",
              "      <td>40.4239</td>\n",
              "      <td>-3.6964</td>\n",
              "      <td>18092.0</td>\n",
              "    </tr>\n",
              "    <tr>\n",
              "      <th>4</th>\n",
              "      <td>Centro</td>\n",
              "      <td>Universidad</td>\n",
              "      <td>0,947 km²</td>\n",
              "      <td>40.4253</td>\n",
              "      <td>-3.7083</td>\n",
              "      <td>33540.0</td>\n",
              "    </tr>\n",
              "  </tbody>\n",
              "</table>\n",
              "</div>"
            ],
            "text/plain": [
              "  Borough Neighborhood Area (km^2)  Latitude  Longitude   People\n",
              "0  Centro      Palacio   1,471 km²   40.4100    -3.7133  23695.0\n",
              "1  Centro  Embajadores   1,032 km²   40.4089    -3.6997  47224.0\n",
              "2  Centro       Cortes   0,592 km²   40.4142    -3.6981  10793.0\n",
              "3  Centro     Justicia   0,742 km²   40.4239    -3.6964  18092.0\n",
              "4  Centro  Universidad   0,947 km²   40.4253    -3.7083  33540.0"
            ]
          },
          "metadata": {
            "tags": []
          },
          "execution_count": 69
        }
      ]
    },
    {
      "cell_type": "markdown",
      "metadata": {
        "id": "d9KH3CShk1Ck",
        "colab_type": "text"
      },
      "source": [
        "### Visualization neighborhoods of Madrid:"
      ]
    },
    {
      "cell_type": "code",
      "metadata": {
        "id": "BtoPwoqnf6aD",
        "colab_type": "code",
        "colab": {
          "base_uri": "https://localhost:8080/",
          "height": 763
        },
        "outputId": "ae9db067-d53c-467e-bcaf-d584b168e035"
      },
      "source": [
        "import matplotlib.cm as cm\n",
        "import matplotlib.colors as colors\n",
        "import folium\n",
        "\n",
        "lat_madrid = 40.4167\n",
        "lon_madrid = -3.7039\n",
        "\n",
        "map_madrid_neig = folium.Map(location=[lat_madrid, lon_madrid], zoom_start=11)\n",
        "\n",
        "# add markers to map\n",
        "for lat, lng, label in zip(df_madrid['Latitude'], df_madrid['Longitude'], df_madrid['Neighborhood']):\n",
        "    label = folium.Popup(label, parse_html=True)\n",
        "    folium.CircleMarker(\n",
        "        [lat, lng],\n",
        "        radius=2,\n",
        "        popup=label,\n",
        "        color='blue',\n",
        "        fill=True,\n",
        "        fill_color='#3186cc',\n",
        "        fill_opacity=0.7,\n",
        "        parse_html=False).add_to(map_madrid_neig)  \n",
        "    \n",
        "map_madrid_neig"
      ],
      "execution_count": null,
      "outputs": [
        {
          "output_type": "execute_result",
          "data": {
            "text/html": [
              "<div style=\"width:100%;\"><div style=\"position:relative;width:100%;height:0;padding-bottom:60%;\"><span style=\"color:#565656\">Make this Notebook Trusted to load map: File -> Trust Notebook</span><iframe src=\"about:blank\" style=\"position:absolute;width:100%;height:100%;left:0;top:0;border:none !important;\" data-html=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 onload=\"this.contentDocument.open();this.contentDocument.write(atob(this.getAttribute('data-html')));this.contentDocument.close();\" allowfullscreen webkitallowfullscreen mozallowfullscreen></iframe></div></div>"
            ],
            "text/plain": [
              "<folium.folium.Map at 0x7f1c9902a9b0>"
            ]
          },
          "metadata": {
            "tags": []
          },
          "execution_count": 96
        }
      ]
    },
    {
      "cell_type": "code",
      "metadata": {
        "id": "liHeatYIkgpL",
        "colab_type": "code",
        "colab": {
          "base_uri": "https://localhost:8080/",
          "height": 655
        },
        "outputId": "4769244a-2f72-4692-b7cd-d3d7e5361501"
      },
      "source": [
        "df_madrid_filter = df_madrid[(df_madrid['Borough']=='Fuencarral-El Pardo') |\n",
        "                             (df_madrid['Borough']=='Hortaleza') |\n",
        "                             (df_madrid['Borough']=='Barajas')]\n",
        "\n",
        "print(df_madrid_filter.shape)\n",
        "df_madrid_filter.head(20)"
      ],
      "execution_count": null,
      "outputs": [
        {
          "output_type": "stream",
          "text": [
            "(19, 6)\n"
          ],
          "name": "stdout"
        },
        {
          "output_type": "execute_result",
          "data": {
            "text/html": [
              "<div>\n",
              "<style scoped>\n",
              "    .dataframe tbody tr th:only-of-type {\n",
              "        vertical-align: middle;\n",
              "    }\n",
              "\n",
              "    .dataframe tbody tr th {\n",
              "        vertical-align: top;\n",
              "    }\n",
              "\n",
              "    .dataframe thead th {\n",
              "        text-align: right;\n",
              "    }\n",
              "</style>\n",
              "<table border=\"1\" class=\"dataframe\">\n",
              "  <thead>\n",
              "    <tr style=\"text-align: right;\">\n",
              "      <th></th>\n",
              "      <th>Borough</th>\n",
              "      <th>Neighborhood</th>\n",
              "      <th>Area (km^2)</th>\n",
              "      <th>Latitude</th>\n",
              "      <th>Longitude</th>\n",
              "      <th>People</th>\n",
              "    </tr>\n",
              "  </thead>\n",
              "  <tbody>\n",
              "    <tr>\n",
              "      <th>43</th>\n",
              "      <td>Fuencarral-El Pardo</td>\n",
              "      <td>El Pardo</td>\n",
              "      <td>187,642 km²</td>\n",
              "      <td>40.5167</td>\n",
              "      <td>-3.7667</td>\n",
              "      <td>3486.0</td>\n",
              "    </tr>\n",
              "    <tr>\n",
              "      <th>44</th>\n",
              "      <td>Fuencarral-El Pardo</td>\n",
              "      <td>Fuentelarreina</td>\n",
              "      <td>1,382 km²</td>\n",
              "      <td>40.4819</td>\n",
              "      <td>-3.7425</td>\n",
              "      <td>3315.0</td>\n",
              "    </tr>\n",
              "    <tr>\n",
              "      <th>45</th>\n",
              "      <td>Fuencarral-El Pardo</td>\n",
              "      <td>Peñagrande</td>\n",
              "      <td>2,890 km²</td>\n",
              "      <td>40.4781</td>\n",
              "      <td>-3.7256</td>\n",
              "      <td>45071.0</td>\n",
              "    </tr>\n",
              "    <tr>\n",
              "      <th>46</th>\n",
              "      <td>Fuencarral-El Pardo</td>\n",
              "      <td>El Pilar</td>\n",
              "      <td>1,359 km²</td>\n",
              "      <td>40.4782</td>\n",
              "      <td>-3.7115</td>\n",
              "      <td>46980.0</td>\n",
              "    </tr>\n",
              "    <tr>\n",
              "      <th>47</th>\n",
              "      <td>Fuencarral-El Pardo</td>\n",
              "      <td>La Paz</td>\n",
              "      <td>2,159 km²</td>\n",
              "      <td>40.4814</td>\n",
              "      <td>-3.6969</td>\n",
              "      <td>33717.0</td>\n",
              "    </tr>\n",
              "    <tr>\n",
              "      <th>48</th>\n",
              "      <td>Fuencarral-El Pardo</td>\n",
              "      <td>Valverde</td>\n",
              "      <td>8,977 km²</td>\n",
              "      <td>40.5058</td>\n",
              "      <td>-3.6858</td>\n",
              "      <td>64845.0</td>\n",
              "    </tr>\n",
              "    <tr>\n",
              "      <th>49</th>\n",
              "      <td>Fuencarral-El Pardo</td>\n",
              "      <td>Mirasierra</td>\n",
              "      <td>6,975 km²</td>\n",
              "      <td>40.4917</td>\n",
              "      <td>-3.7081</td>\n",
              "      <td>34077.0</td>\n",
              "    </tr>\n",
              "    <tr>\n",
              "      <th>50</th>\n",
              "      <td>Fuencarral-El Pardo</td>\n",
              "      <td>El Goloso</td>\n",
              "      <td>26,509 km²</td>\n",
              "      <td>40.5561</td>\n",
              "      <td>-3.7033</td>\n",
              "      <td>19125.0</td>\n",
              "    </tr>\n",
              "    <tr>\n",
              "      <th>100</th>\n",
              "      <td>Hortaleza</td>\n",
              "      <td>Palomas</td>\n",
              "      <td>1,128 km²</td>\n",
              "      <td>40.4536</td>\n",
              "      <td>-3.6181</td>\n",
              "      <td>6857.0</td>\n",
              "    </tr>\n",
              "    <tr>\n",
              "      <th>101</th>\n",
              "      <td>Hortaleza</td>\n",
              "      <td>Piovera</td>\n",
              "      <td>3,139 km²</td>\n",
              "      <td>40.4536</td>\n",
              "      <td>-3.6403</td>\n",
              "      <td>14987.0</td>\n",
              "    </tr>\n",
              "    <tr>\n",
              "      <th>102</th>\n",
              "      <td>Hortaleza</td>\n",
              "      <td>Canillas</td>\n",
              "      <td>2,516 km²</td>\n",
              "      <td>40.4597</td>\n",
              "      <td>-3.6456</td>\n",
              "      <td>40940.0</td>\n",
              "    </tr>\n",
              "    <tr>\n",
              "      <th>103</th>\n",
              "      <td>Hortaleza</td>\n",
              "      <td>Pinar del Rey</td>\n",
              "      <td>2,632 km²</td>\n",
              "      <td>40.4647</td>\n",
              "      <td>-3.6556</td>\n",
              "      <td>53344.0</td>\n",
              "    </tr>\n",
              "    <tr>\n",
              "      <th>104</th>\n",
              "      <td>Hortaleza</td>\n",
              "      <td>Apóstol Santiago</td>\n",
              "      <td>1,204 km²</td>\n",
              "      <td>40.4750</td>\n",
              "      <td>-3.6623</td>\n",
              "      <td>15613.0</td>\n",
              "    </tr>\n",
              "    <tr>\n",
              "      <th>105</th>\n",
              "      <td>Hortaleza</td>\n",
              "      <td>Valdefuentes</td>\n",
              "      <td>16,778 km²</td>\n",
              "      <td>40.4906</td>\n",
              "      <td>-3.6239</td>\n",
              "      <td>62078.0</td>\n",
              "    </tr>\n",
              "    <tr>\n",
              "      <th>126</th>\n",
              "      <td>Barajas</td>\n",
              "      <td>Alameda de Osuna</td>\n",
              "      <td>1,961 km²</td>\n",
              "      <td>40.4572</td>\n",
              "      <td>-3.5878</td>\n",
              "      <td>19885.0</td>\n",
              "    </tr>\n",
              "    <tr>\n",
              "      <th>127</th>\n",
              "      <td>Barajas</td>\n",
              "      <td>Aeropuerto</td>\n",
              "      <td>25,132 km²</td>\n",
              "      <td>40.4942</td>\n",
              "      <td>-3.5669</td>\n",
              "      <td>1912.0</td>\n",
              "    </tr>\n",
              "    <tr>\n",
              "      <th>128</th>\n",
              "      <td>Barajas</td>\n",
              "      <td>Casco Histórico de Barajas</td>\n",
              "      <td>0,609 km²</td>\n",
              "      <td>40.4736</td>\n",
              "      <td>-3.5772</td>\n",
              "      <td>7707.0</td>\n",
              "    </tr>\n",
              "    <tr>\n",
              "      <th>129</th>\n",
              "      <td>Barajas</td>\n",
              "      <td>Timón</td>\n",
              "      <td>9,595 km²</td>\n",
              "      <td>40.4760</td>\n",
              "      <td>-3.6142</td>\n",
              "      <td>12887.0</td>\n",
              "    </tr>\n",
              "    <tr>\n",
              "      <th>130</th>\n",
              "      <td>Barajas</td>\n",
              "      <td>Corralejos</td>\n",
              "      <td>4,633 km²</td>\n",
              "      <td>40.4644</td>\n",
              "      <td>-3.5900</td>\n",
              "      <td>7767.0</td>\n",
              "    </tr>\n",
              "  </tbody>\n",
              "</table>\n",
              "</div>"
            ],
            "text/plain": [
              "                 Borough                Neighborhood  ... Longitude   People\n",
              "43   Fuencarral-El Pardo                    El Pardo  ...   -3.7667   3486.0\n",
              "44   Fuencarral-El Pardo              Fuentelarreina  ...   -3.7425   3315.0\n",
              "45   Fuencarral-El Pardo                  Peñagrande  ...   -3.7256  45071.0\n",
              "46   Fuencarral-El Pardo                    El Pilar  ...   -3.7115  46980.0\n",
              "47   Fuencarral-El Pardo                      La Paz  ...   -3.6969  33717.0\n",
              "48   Fuencarral-El Pardo                    Valverde  ...   -3.6858  64845.0\n",
              "49   Fuencarral-El Pardo                  Mirasierra  ...   -3.7081  34077.0\n",
              "50   Fuencarral-El Pardo                   El Goloso  ...   -3.7033  19125.0\n",
              "100            Hortaleza                     Palomas  ...   -3.6181   6857.0\n",
              "101            Hortaleza                     Piovera  ...   -3.6403  14987.0\n",
              "102            Hortaleza                    Canillas  ...   -3.6456  40940.0\n",
              "103            Hortaleza               Pinar del Rey  ...   -3.6556  53344.0\n",
              "104            Hortaleza            Apóstol Santiago  ...   -3.6623  15613.0\n",
              "105            Hortaleza                Valdefuentes  ...   -3.6239  62078.0\n",
              "126              Barajas            Alameda de Osuna  ...   -3.5878  19885.0\n",
              "127              Barajas                  Aeropuerto  ...   -3.5669   1912.0\n",
              "128              Barajas  Casco Histórico de Barajas  ...   -3.5772   7707.0\n",
              "129              Barajas                       Timón  ...   -3.6142  12887.0\n",
              "130              Barajas                  Corralejos  ...   -3.5900   7767.0\n",
              "\n",
              "[19 rows x 6 columns]"
            ]
          },
          "metadata": {
            "tags": []
          },
          "execution_count": 84
        }
      ]
    },
    {
      "cell_type": "code",
      "metadata": {
        "id": "ylZiCTAenQh0",
        "colab_type": "code",
        "colab": {
          "base_uri": "https://localhost:8080/",
          "height": 68
        },
        "outputId": "7611aad7-ab27-4442-c87c-48647a0545d5"
      },
      "source": [
        "import json # library to handle JSON files\n",
        "from pandas import json_normalize # tranform JSON file into a pandas dataframe\n",
        "import requests\n",
        "\n",
        "CLIENT_ID = 'UTXOJCETPDJ4PK15Y3GTZKYJBW3QGDNZZ3BZUWTLE5FRKXQM' # your Foursquare ID\n",
        "CLIENT_SECRET = 'KO55EJG4VENN22YORYLOGQP305QBKXZO2K3AZBVWLY5HCEGG' # your Foursquare Secret\n",
        "VERSION = '20180605' # Foursquare API version\n",
        "\n",
        "print('Your credentails:')\n",
        "print('CLIENT_ID: ' + CLIENT_ID)\n",
        "print('CLIENT_SECRET:' + CLIENT_SECRET)"
      ],
      "execution_count": null,
      "outputs": [
        {
          "output_type": "stream",
          "text": [
            "Your credentails:\n",
            "CLIENT_ID: UTXOJCETPDJ4PK15Y3GTZKYJBW3QGDNZZ3BZUWTLE5FRKXQM\n",
            "CLIENT_SECRET:KO55EJG4VENN22YORYLOGQP305QBKXZO2K3AZBVWLY5HCEGG\n"
          ],
          "name": "stdout"
        }
      ]
    },
    {
      "cell_type": "code",
      "metadata": {
        "id": "BhckFBBdpFim",
        "colab_type": "code",
        "colab": {}
      },
      "source": [
        "def getNearbyVenues(names, latitudes, longitudes, population, radius=400, LIMIT=150):\n",
        "    \n",
        "    venues_list=[]\n",
        "    for name, lat, lng, popu in zip(names, latitudes, longitudes, population):\n",
        "        print(name)\n",
        "            \n",
        "        # create the API request URL\n",
        "        url = 'https://api.foursquare.com/v2/venues/explore?&client_id={}&client_secret={}&v={}&ll={},{}&radius={}&limit={}'.format(\n",
        "            CLIENT_ID, \n",
        "            CLIENT_SECRET, \n",
        "            VERSION, \n",
        "            lat, \n",
        "            lng, \n",
        "            radius, \n",
        "            LIMIT)\n",
        "            \n",
        "        # make the GET request\n",
        "        results = requests.get(url).json()['response']['groups'][0]['items']\n",
        "        \n",
        "        # return only relevant information for each nearby venue\n",
        "        venues_list.append([(\n",
        "            name, \n",
        "            lat, \n",
        "            lng,\n",
        "            popu, \n",
        "            v['venue']['name'], \n",
        "            v['venue']['location']['lat'], \n",
        "            v['venue']['location']['lng'],  \n",
        "            v['venue']['categories'][0]['name']) for v in results])\n",
        "\n",
        "    nearby_venues = pd.DataFrame([item for venue_list in venues_list for item in venue_list])\n",
        "    nearby_venues.columns = ['Neighborhood', \n",
        "                  'Neighborhood Latitude', \n",
        "                  'Neighborhood Longitude',\n",
        "                  'Neighborhood Population', \n",
        "                  'Venue', \n",
        "                  'Venue Latitude', \n",
        "                  'Venue Longitude', \n",
        "                  'Venue Category']\n",
        "    \n",
        "    return(nearby_venues)"
      ],
      "execution_count": null,
      "outputs": []
    },
    {
      "cell_type": "code",
      "metadata": {
        "id": "2HedzwzcpYxy",
        "colab_type": "code",
        "colab": {
          "base_uri": "https://localhost:8080/",
          "height": 340
        },
        "outputId": "42f6d3f5-67d0-42c5-db2a-ae70c30cf19f"
      },
      "source": [
        "madrid_venues = getNearbyVenues(names = df_madrid_filter['Neighborhood'],\n",
        "                                   latitudes = df_madrid_filter['Latitude'],\n",
        "                                   longitudes = df_madrid_filter['Longitude'],\n",
        "                                    population = df_madrid_filter['People'])"
      ],
      "execution_count": null,
      "outputs": [
        {
          "output_type": "stream",
          "text": [
            "El Pardo\n",
            "Fuentelarreina\n",
            "Peñagrande\n",
            "El Pilar\n",
            "La Paz\n",
            "Valverde\n",
            "Mirasierra\n",
            "El Goloso\n",
            "Palomas\n",
            "Piovera\n",
            "Canillas\n",
            "Pinar del Rey\n",
            "Apóstol Santiago\n",
            "Valdefuentes\n",
            "Alameda de Osuna\n",
            "Aeropuerto\n",
            "Casco Histórico de Barajas\n",
            "Timón\n",
            "Corralejos\n"
          ],
          "name": "stdout"
        }
      ]
    },
    {
      "cell_type": "code",
      "metadata": {
        "id": "xW17whUXpkq6",
        "colab_type": "code",
        "colab": {
          "base_uri": "https://localhost:8080/",
          "height": 255
        },
        "outputId": "31f90437-aa62-4b49-bceb-02d8745cb60e"
      },
      "source": [
        "print(madrid_venues.shape)\n",
        "madrid_venues.head()"
      ],
      "execution_count": null,
      "outputs": [
        {
          "output_type": "stream",
          "text": [
            "(153, 8)\n"
          ],
          "name": "stdout"
        },
        {
          "output_type": "execute_result",
          "data": {
            "text/html": [
              "<div>\n",
              "<style scoped>\n",
              "    .dataframe tbody tr th:only-of-type {\n",
              "        vertical-align: middle;\n",
              "    }\n",
              "\n",
              "    .dataframe tbody tr th {\n",
              "        vertical-align: top;\n",
              "    }\n",
              "\n",
              "    .dataframe thead th {\n",
              "        text-align: right;\n",
              "    }\n",
              "</style>\n",
              "<table border=\"1\" class=\"dataframe\">\n",
              "  <thead>\n",
              "    <tr style=\"text-align: right;\">\n",
              "      <th></th>\n",
              "      <th>Neighborhood</th>\n",
              "      <th>Neighborhood Latitude</th>\n",
              "      <th>Neighborhood Longitude</th>\n",
              "      <th>Neighborhood Population</th>\n",
              "      <th>Venue</th>\n",
              "      <th>Venue Latitude</th>\n",
              "      <th>Venue Longitude</th>\n",
              "      <th>Venue Category</th>\n",
              "    </tr>\n",
              "  </thead>\n",
              "  <tbody>\n",
              "    <tr>\n",
              "      <th>0</th>\n",
              "      <td>El Pardo</td>\n",
              "      <td>40.5167</td>\n",
              "      <td>-3.7667</td>\n",
              "      <td>3486.0</td>\n",
              "      <td>Lar de Domingo</td>\n",
              "      <td>40.514241</td>\n",
              "      <td>-3.764157</td>\n",
              "      <td>Spanish Restaurant</td>\n",
              "    </tr>\n",
              "    <tr>\n",
              "      <th>1</th>\n",
              "      <td>El Pardo</td>\n",
              "      <td>40.5167</td>\n",
              "      <td>-3.7667</td>\n",
              "      <td>3486.0</td>\n",
              "      <td>El Faro del Pardo</td>\n",
              "      <td>40.514210</td>\n",
              "      <td>-3.764297</td>\n",
              "      <td>Spanish Restaurant</td>\n",
              "    </tr>\n",
              "    <tr>\n",
              "      <th>2</th>\n",
              "      <td>Fuentelarreina</td>\n",
              "      <td>40.4819</td>\n",
              "      <td>-3.7425</td>\n",
              "      <td>3315.0</td>\n",
              "      <td>Burger King</td>\n",
              "      <td>40.481028</td>\n",
              "      <td>-3.746482</td>\n",
              "      <td>Fast Food Restaurant</td>\n",
              "    </tr>\n",
              "    <tr>\n",
              "      <th>3</th>\n",
              "      <td>Fuentelarreina</td>\n",
              "      <td>40.4819</td>\n",
              "      <td>-3.7425</td>\n",
              "      <td>3315.0</td>\n",
              "      <td>CD FUNDACION</td>\n",
              "      <td>40.481758</td>\n",
              "      <td>-3.738439</td>\n",
              "      <td>Soccer Field</td>\n",
              "    </tr>\n",
              "    <tr>\n",
              "      <th>4</th>\n",
              "      <td>Peñagrande</td>\n",
              "      <td>40.4781</td>\n",
              "      <td>-3.7256</td>\n",
              "      <td>45071.0</td>\n",
              "      <td>El Viejo Almacén de Buenos Aires</td>\n",
              "      <td>40.481124</td>\n",
              "      <td>-3.723373</td>\n",
              "      <td>Argentinian Restaurant</td>\n",
              "    </tr>\n",
              "  </tbody>\n",
              "</table>\n",
              "</div>"
            ],
            "text/plain": [
              "     Neighborhood  ...          Venue Category\n",
              "0        El Pardo  ...      Spanish Restaurant\n",
              "1        El Pardo  ...      Spanish Restaurant\n",
              "2  Fuentelarreina  ...    Fast Food Restaurant\n",
              "3  Fuentelarreina  ...            Soccer Field\n",
              "4      Peñagrande  ...  Argentinian Restaurant\n",
              "\n",
              "[5 rows x 8 columns]"
            ]
          },
          "metadata": {
            "tags": []
          },
          "execution_count": 80
        }
      ]
    },
    {
      "cell_type": "code",
      "metadata": {
        "id": "dcJtK1stqRda",
        "colab_type": "code",
        "colab": {
          "base_uri": "https://localhost:8080/",
          "height": 374
        },
        "outputId": "6a184a3d-58c6-49eb-a460-cc9ce87f05bb"
      },
      "source": [
        "madrid_venues_list = madrid_venues['Venue Category'].value_counts()\n",
        "madrid_venues_list[0:20]"
      ],
      "execution_count": null,
      "outputs": [
        {
          "output_type": "execute_result",
          "data": {
            "text/plain": [
              "Spanish Restaurant      14\n",
              "Restaurant               9\n",
              "Coffee Shop              7\n",
              "Fast Food Restaurant     6\n",
              "Breakfast Spot           5\n",
              "Hotel                    5\n",
              "Tapas Restaurant         5\n",
              "Asian Restaurant         5\n",
              "Italian Restaurant       5\n",
              "Park                     4\n",
              "Sandwich Place           4\n",
              "Airport Lounge           4\n",
              "Bakery                   4\n",
              "Café                     4\n",
              "Soccer Field             4\n",
              "Grocery Store            3\n",
              "Plaza                    3\n",
              "Supermarket              3\n",
              "Burger Joint             3\n",
              "Metro Station            3\n",
              "Name: Venue Category, dtype: int64"
            ]
          },
          "metadata": {
            "tags": []
          },
          "execution_count": 81
        }
      ]
    },
    {
      "cell_type": "code",
      "metadata": {
        "id": "Bi2PCjLxqpTk",
        "colab_type": "code",
        "colab": {
          "base_uri": "https://localhost:8080/",
          "height": 224
        },
        "outputId": "f7adce36-06bd-4b0f-c813-20ff18e02236"
      },
      "source": [
        "df_madrid_bakery = madrid_venues[madrid_venues['Venue Category'] == 'Bakery']\n",
        "df_madrid_bakery"
      ],
      "execution_count": null,
      "outputs": [
        {
          "output_type": "execute_result",
          "data": {
            "text/html": [
              "<div>\n",
              "<style scoped>\n",
              "    .dataframe tbody tr th:only-of-type {\n",
              "        vertical-align: middle;\n",
              "    }\n",
              "\n",
              "    .dataframe tbody tr th {\n",
              "        vertical-align: top;\n",
              "    }\n",
              "\n",
              "    .dataframe thead th {\n",
              "        text-align: right;\n",
              "    }\n",
              "</style>\n",
              "<table border=\"1\" class=\"dataframe\">\n",
              "  <thead>\n",
              "    <tr style=\"text-align: right;\">\n",
              "      <th></th>\n",
              "      <th>Neighborhood</th>\n",
              "      <th>Neighborhood Latitude</th>\n",
              "      <th>Neighborhood Longitude</th>\n",
              "      <th>Neighborhood Population</th>\n",
              "      <th>Venue</th>\n",
              "      <th>Venue Latitude</th>\n",
              "      <th>Venue Longitude</th>\n",
              "      <th>Venue Category</th>\n",
              "    </tr>\n",
              "  </thead>\n",
              "  <tbody>\n",
              "    <tr>\n",
              "      <th>31</th>\n",
              "      <td>El Pilar</td>\n",
              "      <td>40.4782</td>\n",
              "      <td>-3.7115</td>\n",
              "      <td>46980.0</td>\n",
              "      <td>Panadería El Guerrero</td>\n",
              "      <td>40.477575</td>\n",
              "      <td>-3.713825</td>\n",
              "      <td>Bakery</td>\n",
              "    </tr>\n",
              "    <tr>\n",
              "      <th>46</th>\n",
              "      <td>Palomas</td>\n",
              "      <td>40.4536</td>\n",
              "      <td>-3.6181</td>\n",
              "      <td>6857.0</td>\n",
              "      <td>Mallorca</td>\n",
              "      <td>40.455062</td>\n",
              "      <td>-3.620675</td>\n",
              "      <td>Bakery</td>\n",
              "    </tr>\n",
              "    <tr>\n",
              "      <th>94</th>\n",
              "      <td>Apóstol Santiago</td>\n",
              "      <td>40.4750</td>\n",
              "      <td>-3.6623</td>\n",
              "      <td>15613.0</td>\n",
              "      <td>Piccolo Cafetería / Panadería</td>\n",
              "      <td>40.476767</td>\n",
              "      <td>-3.659182</td>\n",
              "      <td>Bakery</td>\n",
              "    </tr>\n",
              "    <tr>\n",
              "      <th>95</th>\n",
              "      <td>Alameda de Osuna</td>\n",
              "      <td>40.4572</td>\n",
              "      <td>-3.5878</td>\n",
              "      <td>19885.0</td>\n",
              "      <td>La 28</td>\n",
              "      <td>40.457335</td>\n",
              "      <td>-3.585759</td>\n",
              "      <td>Bakery</td>\n",
              "    </tr>\n",
              "  </tbody>\n",
              "</table>\n",
              "</div>"
            ],
            "text/plain": [
              "        Neighborhood  Neighborhood Latitude  ...  Venue Longitude  Venue Category\n",
              "31          El Pilar                40.4782  ...        -3.713825          Bakery\n",
              "46           Palomas                40.4536  ...        -3.620675          Bakery\n",
              "94  Apóstol Santiago                40.4750  ...        -3.659182          Bakery\n",
              "95  Alameda de Osuna                40.4572  ...        -3.585759          Bakery\n",
              "\n",
              "[4 rows x 8 columns]"
            ]
          },
          "metadata": {
            "tags": []
          },
          "execution_count": 101
        }
      ]
    },
    {
      "cell_type": "code",
      "metadata": {
        "id": "An4nP9cUjeAH",
        "colab_type": "code",
        "colab": {
          "base_uri": "https://localhost:8080/",
          "height": 359
        },
        "outputId": "c4989114-f857-4547-cef2-ad1cbab43385"
      },
      "source": [
        "df_madrid_sorted = df_madrid_filter.sort_values(['People'], ascending=False)\n",
        "df_madrid_north_top10_popu = df_madrid_sorted.head(10)\n",
        "df_madrid_north_top10_popu"
      ],
      "execution_count": null,
      "outputs": [
        {
          "output_type": "execute_result",
          "data": {
            "text/html": [
              "<div>\n",
              "<style scoped>\n",
              "    .dataframe tbody tr th:only-of-type {\n",
              "        vertical-align: middle;\n",
              "    }\n",
              "\n",
              "    .dataframe tbody tr th {\n",
              "        vertical-align: top;\n",
              "    }\n",
              "\n",
              "    .dataframe thead th {\n",
              "        text-align: right;\n",
              "    }\n",
              "</style>\n",
              "<table border=\"1\" class=\"dataframe\">\n",
              "  <thead>\n",
              "    <tr style=\"text-align: right;\">\n",
              "      <th></th>\n",
              "      <th>Borough</th>\n",
              "      <th>Neighborhood</th>\n",
              "      <th>Area (km^2)</th>\n",
              "      <th>Latitude</th>\n",
              "      <th>Longitude</th>\n",
              "      <th>People</th>\n",
              "    </tr>\n",
              "  </thead>\n",
              "  <tbody>\n",
              "    <tr>\n",
              "      <th>48</th>\n",
              "      <td>Fuencarral-El Pardo</td>\n",
              "      <td>Valverde</td>\n",
              "      <td>8,977 km²</td>\n",
              "      <td>40.5058</td>\n",
              "      <td>-3.6858</td>\n",
              "      <td>64845.0</td>\n",
              "    </tr>\n",
              "    <tr>\n",
              "      <th>105</th>\n",
              "      <td>Hortaleza</td>\n",
              "      <td>Valdefuentes</td>\n",
              "      <td>16,778 km²</td>\n",
              "      <td>40.4906</td>\n",
              "      <td>-3.6239</td>\n",
              "      <td>62078.0</td>\n",
              "    </tr>\n",
              "    <tr>\n",
              "      <th>103</th>\n",
              "      <td>Hortaleza</td>\n",
              "      <td>Pinar del Rey</td>\n",
              "      <td>2,632 km²</td>\n",
              "      <td>40.4647</td>\n",
              "      <td>-3.6556</td>\n",
              "      <td>53344.0</td>\n",
              "    </tr>\n",
              "    <tr>\n",
              "      <th>46</th>\n",
              "      <td>Fuencarral-El Pardo</td>\n",
              "      <td>El Pilar</td>\n",
              "      <td>1,359 km²</td>\n",
              "      <td>40.4782</td>\n",
              "      <td>-3.7115</td>\n",
              "      <td>46980.0</td>\n",
              "    </tr>\n",
              "    <tr>\n",
              "      <th>45</th>\n",
              "      <td>Fuencarral-El Pardo</td>\n",
              "      <td>Peñagrande</td>\n",
              "      <td>2,890 km²</td>\n",
              "      <td>40.4781</td>\n",
              "      <td>-3.7256</td>\n",
              "      <td>45071.0</td>\n",
              "    </tr>\n",
              "    <tr>\n",
              "      <th>102</th>\n",
              "      <td>Hortaleza</td>\n",
              "      <td>Canillas</td>\n",
              "      <td>2,516 km²</td>\n",
              "      <td>40.4597</td>\n",
              "      <td>-3.6456</td>\n",
              "      <td>40940.0</td>\n",
              "    </tr>\n",
              "    <tr>\n",
              "      <th>49</th>\n",
              "      <td>Fuencarral-El Pardo</td>\n",
              "      <td>Mirasierra</td>\n",
              "      <td>6,975 km²</td>\n",
              "      <td>40.4917</td>\n",
              "      <td>-3.7081</td>\n",
              "      <td>34077.0</td>\n",
              "    </tr>\n",
              "    <tr>\n",
              "      <th>47</th>\n",
              "      <td>Fuencarral-El Pardo</td>\n",
              "      <td>La Paz</td>\n",
              "      <td>2,159 km²</td>\n",
              "      <td>40.4814</td>\n",
              "      <td>-3.6969</td>\n",
              "      <td>33717.0</td>\n",
              "    </tr>\n",
              "    <tr>\n",
              "      <th>126</th>\n",
              "      <td>Barajas</td>\n",
              "      <td>Alameda de Osuna</td>\n",
              "      <td>1,961 km²</td>\n",
              "      <td>40.4572</td>\n",
              "      <td>-3.5878</td>\n",
              "      <td>19885.0</td>\n",
              "    </tr>\n",
              "    <tr>\n",
              "      <th>50</th>\n",
              "      <td>Fuencarral-El Pardo</td>\n",
              "      <td>El Goloso</td>\n",
              "      <td>26,509 km²</td>\n",
              "      <td>40.5561</td>\n",
              "      <td>-3.7033</td>\n",
              "      <td>19125.0</td>\n",
              "    </tr>\n",
              "  </tbody>\n",
              "</table>\n",
              "</div>"
            ],
            "text/plain": [
              "                 Borough      Neighborhood  ... Longitude   People\n",
              "48   Fuencarral-El Pardo          Valverde  ...   -3.6858  64845.0\n",
              "105            Hortaleza      Valdefuentes  ...   -3.6239  62078.0\n",
              "103            Hortaleza     Pinar del Rey  ...   -3.6556  53344.0\n",
              "46   Fuencarral-El Pardo          El Pilar  ...   -3.7115  46980.0\n",
              "45   Fuencarral-El Pardo        Peñagrande  ...   -3.7256  45071.0\n",
              "102            Hortaleza          Canillas  ...   -3.6456  40940.0\n",
              "49   Fuencarral-El Pardo        Mirasierra  ...   -3.7081  34077.0\n",
              "47   Fuencarral-El Pardo            La Paz  ...   -3.6969  33717.0\n",
              "126              Barajas  Alameda de Osuna  ...   -3.5878  19885.0\n",
              "50   Fuencarral-El Pardo         El Goloso  ...   -3.7033  19125.0\n",
              "\n",
              "[10 rows x 6 columns]"
            ]
          },
          "metadata": {
            "tags": []
          },
          "execution_count": 100
        }
      ]
    },
    {
      "cell_type": "code",
      "metadata": {
        "id": "CmYsRza5lgGt",
        "colab_type": "code",
        "colab": {
          "base_uri": "https://localhost:8080/",
          "height": 763
        },
        "outputId": "2de0d7e7-c8aa-4ddc-f996-4be78bfbd76e"
      },
      "source": [
        "lat_madrid_north = 40.4814\n",
        "lon_madrid_north = -3.6969\n",
        "\n",
        "map_madrid_north = folium.Map(location=[lat_madrid_north, lon_madrid_north], zoom_start=13)\n",
        "\n",
        "# add markers to map\n",
        "for lat, lng, label in zip(df_madrid_north_top10_popu['Latitude'], df_madrid_north_top10_popu['Longitude'], df_madrid_north_top10_popu['Neighborhood']):\n",
        "    label = folium.Popup(label, parse_html=True)\n",
        "    folium.CircleMarker(\n",
        "        [lat, lng],\n",
        "        radius=3,\n",
        "        popup=label,\n",
        "        color='blue',\n",
        "        fill=True,\n",
        "        fill_color='#3186cc',\n",
        "        fill_opacity=0.7,\n",
        "        parse_html=False).add_to(map_madrid_north)\n",
        "\n",
        "for lat, lng, label in zip(df_madrid_bakery['Neighborhood Latitude'], df_madrid_bakery['Neighborhood Longitude'], df_madrid_bakery['Neighborhood']):\n",
        "    label = folium.Popup(label, parse_html=True)\n",
        "    folium.CircleMarker(\n",
        "        [lat, lng],\n",
        "        radius=6,\n",
        "        popup=label,\n",
        "        color='red',\n",
        "        fill=True,\n",
        "        fill_color='#3186cc',\n",
        "        fill_opacity=0.7,\n",
        "        parse_html=False).add_to(map_madrid_north) \n",
        "    \n",
        "map_madrid_north"
      ],
      "execution_count": null,
      "outputs": [
        {
          "output_type": "execute_result",
          "data": {
            "text/html": [
              "<div style=\"width:100%;\"><div style=\"position:relative;width:100%;height:0;padding-bottom:60%;\"><span style=\"color:#565656\">Make this Notebook Trusted to load map: File -> Trust Notebook</span><iframe src=\"about:blank\" style=\"position:absolute;width:100%;height:100%;left:0;top:0;border:none !important;\" data-html=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 onload=\"this.contentDocument.open();this.contentDocument.write(atob(this.getAttribute('data-html')));this.contentDocument.close();\" allowfullscreen webkitallowfullscreen mozallowfullscreen></iframe></div></div>"
            ],
            "text/plain": [
              "<folium.folium.Map at 0x7f1c988eaba8>"
            ]
          },
          "metadata": {
            "tags": []
          },
          "execution_count": 103
        }
      ]
    },
    {
      "cell_type": "markdown",
      "metadata": {
        "id": "DA9IgUTqs1rK",
        "colab_type": "text"
      },
      "source": [
        "## CLUSTERING:"
      ]
    },
    {
      "cell_type": "code",
      "metadata": {
        "id": "jxncxnkupY1f",
        "colab_type": "code",
        "colab": {
          "base_uri": "https://localhost:8080/",
          "height": 34
        },
        "outputId": "385f538e-191d-4f5e-faf9-161d9cdf8ce5"
      },
      "source": [
        "print('There are {} uniques categories.'.format(len(madrid_venues['Venue Category'].unique())))"
      ],
      "execution_count": null,
      "outputs": [
        {
          "output_type": "stream",
          "text": [
            "There are 65 uniques categories.\n"
          ],
          "name": "stdout"
        }
      ]
    },
    {
      "cell_type": "code",
      "metadata": {
        "id": "UDrA7oEDtExR",
        "colab_type": "code",
        "colab": {
          "base_uri": "https://localhost:8080/",
          "height": 238
        },
        "outputId": "30b7cfff-bfb2-4c70-c186-53ada3d74c9e"
      },
      "source": [
        "# one hot encoding\n",
        "madrid_onehot = pd.get_dummies(madrid_venues[['Venue Category']], prefix=\"\", prefix_sep=\"\")\n",
        "\n",
        "# add neighborhood column back to dataframe\n",
        "madrid_onehot['Neighborhood'] = madrid_venues['Neighborhood'] \n",
        "\n",
        "# move neighborhood column to the first column\n",
        "fixed_columns = [madrid_onehot.columns[-1]] + list(madrid_onehot.columns[:-1])\n",
        "madrid_onehot = madrid_onehot[fixed_columns]\n",
        "\n",
        "\n",
        "madrid_grouped = madrid_onehot.groupby('Neighborhood').mean().reset_index()\n",
        "\n",
        "\n",
        "def return_most_common_venues(row, num_top_venues):\n",
        "    row_categories = row.iloc[1:]\n",
        "    row_categories_sorted = row_categories.sort_values(ascending=False)\n",
        "    \n",
        "    return row_categories_sorted.index.values[0:num_top_venues]\n",
        "\n",
        "\n",
        "num_top_venues = 7\n",
        "\n",
        "indicators = ['st', 'nd', 'rd']\n",
        "\n",
        "# create columns according to number of top venues\n",
        "columns = ['Neighborhood']\n",
        "for ind in np.arange(num_top_venues):\n",
        "    try:\n",
        "        columns.append('{}{} Most Common Venue'.format(ind+1, indicators[ind]))\n",
        "    except:\n",
        "        columns.append('{}th Most Common Venue'.format(ind+1))\n",
        "\n",
        "# create a new dataframe\n",
        "neighborhoods_venues_sorted = pd.DataFrame(columns=columns)\n",
        "neighborhoods_venues_sorted['Neighborhood'] = madrid_grouped['Neighborhood']\n",
        "\n",
        "for ind in np.arange(madrid_grouped.shape[0]):\n",
        "    neighborhoods_venues_sorted.iloc[ind, 1:] = return_most_common_venues(madrid_grouped.iloc[ind, :], num_top_venues)\n",
        "\n",
        "neighborhoods_venues_sorted.head()"
      ],
      "execution_count": null,
      "outputs": [
        {
          "output_type": "execute_result",
          "data": {
            "text/html": [
              "<div>\n",
              "<style scoped>\n",
              "    .dataframe tbody tr th:only-of-type {\n",
              "        vertical-align: middle;\n",
              "    }\n",
              "\n",
              "    .dataframe tbody tr th {\n",
              "        vertical-align: top;\n",
              "    }\n",
              "\n",
              "    .dataframe thead th {\n",
              "        text-align: right;\n",
              "    }\n",
              "</style>\n",
              "<table border=\"1\" class=\"dataframe\">\n",
              "  <thead>\n",
              "    <tr style=\"text-align: right;\">\n",
              "      <th></th>\n",
              "      <th>Neighborhood</th>\n",
              "      <th>1st Most Common Venue</th>\n",
              "      <th>2nd Most Common Venue</th>\n",
              "      <th>3rd Most Common Venue</th>\n",
              "      <th>4th Most Common Venue</th>\n",
              "      <th>5th Most Common Venue</th>\n",
              "      <th>6th Most Common Venue</th>\n",
              "      <th>7th Most Common Venue</th>\n",
              "    </tr>\n",
              "  </thead>\n",
              "  <tbody>\n",
              "    <tr>\n",
              "      <th>0</th>\n",
              "      <td>Aeropuerto</td>\n",
              "      <td>Airport Lounge</td>\n",
              "      <td>Spanish Restaurant</td>\n",
              "      <td>Duty-free Shop</td>\n",
              "      <td>Café</td>\n",
              "      <td>Cafeteria</td>\n",
              "      <td>Sandwich Place</td>\n",
              "      <td>Fast Food Restaurant</td>\n",
              "    </tr>\n",
              "    <tr>\n",
              "      <th>1</th>\n",
              "      <td>Alameda de Osuna</td>\n",
              "      <td>Shop &amp; Service</td>\n",
              "      <td>Smoke Shop</td>\n",
              "      <td>Metro Station</td>\n",
              "      <td>Italian Restaurant</td>\n",
              "      <td>Chinese Restaurant</td>\n",
              "      <td>Hotel</td>\n",
              "      <td>Pizza Place</td>\n",
              "    </tr>\n",
              "    <tr>\n",
              "      <th>2</th>\n",
              "      <td>Apóstol Santiago</td>\n",
              "      <td>Grocery Store</td>\n",
              "      <td>Metro Station</td>\n",
              "      <td>Bakery</td>\n",
              "      <td>Flea Market</td>\n",
              "      <td>Department Store</td>\n",
              "      <td>Diner</td>\n",
              "      <td>Donut Shop</td>\n",
              "    </tr>\n",
              "    <tr>\n",
              "      <th>3</th>\n",
              "      <td>Canillas</td>\n",
              "      <td>Hotel</td>\n",
              "      <td>Metro Station</td>\n",
              "      <td>Plaza</td>\n",
              "      <td>Restaurant</td>\n",
              "      <td>Rock Club</td>\n",
              "      <td>Spanish Restaurant</td>\n",
              "      <td>Soccer Field</td>\n",
              "    </tr>\n",
              "    <tr>\n",
              "      <th>4</th>\n",
              "      <td>Casco Histórico de Barajas</td>\n",
              "      <td>Hotel</td>\n",
              "      <td>Pizza Place</td>\n",
              "      <td>Spanish Restaurant</td>\n",
              "      <td>Plaza</td>\n",
              "      <td>Restaurant</td>\n",
              "      <td>Sandwich Place</td>\n",
              "      <td>Boarding House</td>\n",
              "    </tr>\n",
              "  </tbody>\n",
              "</table>\n",
              "</div>"
            ],
            "text/plain": [
              "                 Neighborhood  ... 7th Most Common Venue\n",
              "0                  Aeropuerto  ...  Fast Food Restaurant\n",
              "1            Alameda de Osuna  ...           Pizza Place\n",
              "2            Apóstol Santiago  ...            Donut Shop\n",
              "3                    Canillas  ...          Soccer Field\n",
              "4  Casco Histórico de Barajas  ...        Boarding House\n",
              "\n",
              "[5 rows x 8 columns]"
            ]
          },
          "metadata": {
            "tags": []
          },
          "execution_count": 106
        }
      ]
    },
    {
      "cell_type": "code",
      "metadata": {
        "id": "TSXEe_OL0y0l",
        "colab_type": "code",
        "colab": {}
      },
      "source": [
        "from sklearn.cluster import KMeans\n",
        "\n",
        "kclusters = 3\n",
        "\n",
        "madrid_grouped_clustering = madrid_grouped.drop('Neighborhood', 1)\n",
        "\n",
        "# run k-means clustering\n",
        "kmeans = KMeans(n_clusters=kclusters, random_state=0).fit(madrid_grouped_clustering)\n",
        "\n",
        "labels_k = kmeans.labels_"
      ],
      "execution_count": null,
      "outputs": []
    },
    {
      "cell_type": "code",
      "metadata": {
        "id": "PCsTzN7-5nJT",
        "colab_type": "code",
        "colab": {
          "base_uri": "https://localhost:8080/",
          "height": 746
        },
        "outputId": "852103f3-c7f8-4d32-dcea-9d29ad8ba3af"
      },
      "source": [
        "neighborhoods_venues_sorted['Cluster'] = labels_k\n",
        "neighborhoods_venues_sorted"
      ],
      "execution_count": null,
      "outputs": [
        {
          "output_type": "execute_result",
          "data": {
            "text/html": [
              "<div>\n",
              "<style scoped>\n",
              "    .dataframe tbody tr th:only-of-type {\n",
              "        vertical-align: middle;\n",
              "    }\n",
              "\n",
              "    .dataframe tbody tr th {\n",
              "        vertical-align: top;\n",
              "    }\n",
              "\n",
              "    .dataframe thead th {\n",
              "        text-align: right;\n",
              "    }\n",
              "</style>\n",
              "<table border=\"1\" class=\"dataframe\">\n",
              "  <thead>\n",
              "    <tr style=\"text-align: right;\">\n",
              "      <th></th>\n",
              "      <th>Neighborhood</th>\n",
              "      <th>1st Most Common Venue</th>\n",
              "      <th>2nd Most Common Venue</th>\n",
              "      <th>3rd Most Common Venue</th>\n",
              "      <th>4th Most Common Venue</th>\n",
              "      <th>5th Most Common Venue</th>\n",
              "      <th>6th Most Common Venue</th>\n",
              "      <th>7th Most Common Venue</th>\n",
              "      <th>Cluster</th>\n",
              "    </tr>\n",
              "  </thead>\n",
              "  <tbody>\n",
              "    <tr>\n",
              "      <th>0</th>\n",
              "      <td>Aeropuerto</td>\n",
              "      <td>Airport Lounge</td>\n",
              "      <td>Spanish Restaurant</td>\n",
              "      <td>Duty-free Shop</td>\n",
              "      <td>Café</td>\n",
              "      <td>Cafeteria</td>\n",
              "      <td>Sandwich Place</td>\n",
              "      <td>Fast Food Restaurant</td>\n",
              "      <td>0</td>\n",
              "    </tr>\n",
              "    <tr>\n",
              "      <th>1</th>\n",
              "      <td>Alameda de Osuna</td>\n",
              "      <td>Shop &amp; Service</td>\n",
              "      <td>Smoke Shop</td>\n",
              "      <td>Metro Station</td>\n",
              "      <td>Italian Restaurant</td>\n",
              "      <td>Chinese Restaurant</td>\n",
              "      <td>Hotel</td>\n",
              "      <td>Pizza Place</td>\n",
              "      <td>0</td>\n",
              "    </tr>\n",
              "    <tr>\n",
              "      <th>2</th>\n",
              "      <td>Apóstol Santiago</td>\n",
              "      <td>Grocery Store</td>\n",
              "      <td>Metro Station</td>\n",
              "      <td>Bakery</td>\n",
              "      <td>Flea Market</td>\n",
              "      <td>Department Store</td>\n",
              "      <td>Diner</td>\n",
              "      <td>Donut Shop</td>\n",
              "      <td>0</td>\n",
              "    </tr>\n",
              "    <tr>\n",
              "      <th>3</th>\n",
              "      <td>Canillas</td>\n",
              "      <td>Hotel</td>\n",
              "      <td>Metro Station</td>\n",
              "      <td>Plaza</td>\n",
              "      <td>Restaurant</td>\n",
              "      <td>Rock Club</td>\n",
              "      <td>Spanish Restaurant</td>\n",
              "      <td>Soccer Field</td>\n",
              "      <td>0</td>\n",
              "    </tr>\n",
              "    <tr>\n",
              "      <th>4</th>\n",
              "      <td>Casco Histórico de Barajas</td>\n",
              "      <td>Hotel</td>\n",
              "      <td>Pizza Place</td>\n",
              "      <td>Spanish Restaurant</td>\n",
              "      <td>Plaza</td>\n",
              "      <td>Restaurant</td>\n",
              "      <td>Sandwich Place</td>\n",
              "      <td>Boarding House</td>\n",
              "      <td>0</td>\n",
              "    </tr>\n",
              "    <tr>\n",
              "      <th>5</th>\n",
              "      <td>Corralejos</td>\n",
              "      <td>Spanish Restaurant</td>\n",
              "      <td>Hostel</td>\n",
              "      <td>Mexican Restaurant</td>\n",
              "      <td>Coffee Shop</td>\n",
              "      <td>Restaurant</td>\n",
              "      <td>Park</td>\n",
              "      <td>Supermarket</td>\n",
              "      <td>0</td>\n",
              "    </tr>\n",
              "    <tr>\n",
              "      <th>6</th>\n",
              "      <td>El Pardo</td>\n",
              "      <td>Spanish Restaurant</td>\n",
              "      <td>Flea Market</td>\n",
              "      <td>Cosmetics Shop</td>\n",
              "      <td>Department Store</td>\n",
              "      <td>Diner</td>\n",
              "      <td>Donut Shop</td>\n",
              "      <td>Duty-free Shop</td>\n",
              "      <td>2</td>\n",
              "    </tr>\n",
              "    <tr>\n",
              "      <th>7</th>\n",
              "      <td>El Pilar</td>\n",
              "      <td>Fast Food Restaurant</td>\n",
              "      <td>Tapas Restaurant</td>\n",
              "      <td>Burger Joint</td>\n",
              "      <td>Video Game Store</td>\n",
              "      <td>Pizza Place</td>\n",
              "      <td>Frozen Yogurt Shop</td>\n",
              "      <td>General Entertainment</td>\n",
              "      <td>0</td>\n",
              "    </tr>\n",
              "    <tr>\n",
              "      <th>8</th>\n",
              "      <td>Fuentelarreina</td>\n",
              "      <td>Soccer Field</td>\n",
              "      <td>Fast Food Restaurant</td>\n",
              "      <td>Video Game Store</td>\n",
              "      <td>Cosmetics Shop</td>\n",
              "      <td>Department Store</td>\n",
              "      <td>Diner</td>\n",
              "      <td>Donut Shop</td>\n",
              "      <td>1</td>\n",
              "    </tr>\n",
              "    <tr>\n",
              "      <th>9</th>\n",
              "      <td>La Paz</td>\n",
              "      <td>Park</td>\n",
              "      <td>Food &amp; Drink Shop</td>\n",
              "      <td>Athletics &amp; Sports</td>\n",
              "      <td>Spanish Restaurant</td>\n",
              "      <td>Italian Restaurant</td>\n",
              "      <td>Fast Food Restaurant</td>\n",
              "      <td>Cosmetics Shop</td>\n",
              "      <td>0</td>\n",
              "    </tr>\n",
              "    <tr>\n",
              "      <th>10</th>\n",
              "      <td>Mirasierra</td>\n",
              "      <td>Breakfast Spot</td>\n",
              "      <td>Supermarket</td>\n",
              "      <td>Café</td>\n",
              "      <td>Mediterranean Restaurant</td>\n",
              "      <td>Video Game Store</td>\n",
              "      <td>Department Store</td>\n",
              "      <td>Diner</td>\n",
              "      <td>0</td>\n",
              "    </tr>\n",
              "    <tr>\n",
              "      <th>11</th>\n",
              "      <td>Palomas</td>\n",
              "      <td>Coffee Shop</td>\n",
              "      <td>Restaurant</td>\n",
              "      <td>Café</td>\n",
              "      <td>Asian Restaurant</td>\n",
              "      <td>Spanish Restaurant</td>\n",
              "      <td>Sandwich Place</td>\n",
              "      <td>Food Truck</td>\n",
              "      <td>0</td>\n",
              "    </tr>\n",
              "    <tr>\n",
              "      <th>12</th>\n",
              "      <td>Peñagrande</td>\n",
              "      <td>Breakfast Spot</td>\n",
              "      <td>Argentinian Restaurant</td>\n",
              "      <td>Restaurant</td>\n",
              "      <td>Playground</td>\n",
              "      <td>Fried Chicken Joint</td>\n",
              "      <td>Food Truck</td>\n",
              "      <td>Food &amp; Drink Shop</td>\n",
              "      <td>0</td>\n",
              "    </tr>\n",
              "    <tr>\n",
              "      <th>13</th>\n",
              "      <td>Pinar del Rey</td>\n",
              "      <td>Asian Restaurant</td>\n",
              "      <td>Nightclub</td>\n",
              "      <td>Park</td>\n",
              "      <td>Gastropub</td>\n",
              "      <td>Supermarket</td>\n",
              "      <td>Flower Shop</td>\n",
              "      <td>Spanish Restaurant</td>\n",
              "      <td>0</td>\n",
              "    </tr>\n",
              "    <tr>\n",
              "      <th>14</th>\n",
              "      <td>Piovera</td>\n",
              "      <td>Cheese Shop</td>\n",
              "      <td>Sports Club</td>\n",
              "      <td>Sporting Goods Shop</td>\n",
              "      <td>Video Game Store</td>\n",
              "      <td>Fast Food Restaurant</td>\n",
              "      <td>Cosmetics Shop</td>\n",
              "      <td>Department Store</td>\n",
              "      <td>0</td>\n",
              "    </tr>\n",
              "    <tr>\n",
              "      <th>15</th>\n",
              "      <td>Timón</td>\n",
              "      <td>Soccer Field</td>\n",
              "      <td>Video Game Store</td>\n",
              "      <td>Cosmetics Shop</td>\n",
              "      <td>Department Store</td>\n",
              "      <td>Diner</td>\n",
              "      <td>Donut Shop</td>\n",
              "      <td>Duty-free Shop</td>\n",
              "      <td>1</td>\n",
              "    </tr>\n",
              "    <tr>\n",
              "      <th>16</th>\n",
              "      <td>Valverde</td>\n",
              "      <td>Spanish Restaurant</td>\n",
              "      <td>Restaurant</td>\n",
              "      <td>Fast Food Restaurant</td>\n",
              "      <td>Cosmetics Shop</td>\n",
              "      <td>Department Store</td>\n",
              "      <td>Diner</td>\n",
              "      <td>Donut Shop</td>\n",
              "      <td>2</td>\n",
              "    </tr>\n",
              "  </tbody>\n",
              "</table>\n",
              "</div>"
            ],
            "text/plain": [
              "                  Neighborhood  ... Cluster\n",
              "0                   Aeropuerto  ...       0\n",
              "1             Alameda de Osuna  ...       0\n",
              "2             Apóstol Santiago  ...       0\n",
              "3                     Canillas  ...       0\n",
              "4   Casco Histórico de Barajas  ...       0\n",
              "5                   Corralejos  ...       0\n",
              "6                     El Pardo  ...       2\n",
              "7                     El Pilar  ...       0\n",
              "8               Fuentelarreina  ...       1\n",
              "9                       La Paz  ...       0\n",
              "10                  Mirasierra  ...       0\n",
              "11                     Palomas  ...       0\n",
              "12                  Peñagrande  ...       0\n",
              "13               Pinar del Rey  ...       0\n",
              "14                     Piovera  ...       0\n",
              "15                       Timón  ...       1\n",
              "16                    Valverde  ...       2\n",
              "\n",
              "[17 rows x 9 columns]"
            ]
          },
          "metadata": {
            "tags": []
          },
          "execution_count": 120
        }
      ]
    },
    {
      "cell_type": "code",
      "metadata": {
        "id": "C6OjflSb5tLT",
        "colab_type": "code",
        "colab": {
          "base_uri": "https://localhost:8080/",
          "height": 34
        },
        "outputId": "9d400850-9fd0-441d-bcb2-7d93a528eaf5"
      },
      "source": [
        "bakery_hoods = df_madrid_bakery['Neighborhood'].tolist()\n",
        "bakery_hoods"
      ],
      "execution_count": null,
      "outputs": [
        {
          "output_type": "execute_result",
          "data": {
            "text/plain": [
              "['El Pilar', 'Palomas', 'Apóstol Santiago', 'Alameda de Osuna']"
            ]
          },
          "metadata": {
            "tags": []
          },
          "execution_count": 121
        }
      ]
    },
    {
      "cell_type": "code",
      "metadata": {
        "id": "fBVewy2R6o8a",
        "colab_type": "code",
        "colab": {
          "base_uri": "https://localhost:8080/",
          "height": 241
        },
        "outputId": "7d871c0e-8dcd-4d1a-add3-279f5cde28b9"
      },
      "source": [
        "neighborhoods_venues_sorted[(neighborhoods_venues_sorted['Neighborhood'] == 'El Pilar') |\n",
        "                            (neighborhoods_venues_sorted['Neighborhood'] == 'Palomas') |\n",
        "                            (neighborhoods_venues_sorted['Neighborhood'] == 'Apóstol Santiago') |\n",
        "                            (neighborhoods_venues_sorted['Neighborhood'] == 'Alameda de Osuna')]"
      ],
      "execution_count": null,
      "outputs": [
        {
          "output_type": "execute_result",
          "data": {
            "text/html": [
              "<div>\n",
              "<style scoped>\n",
              "    .dataframe tbody tr th:only-of-type {\n",
              "        vertical-align: middle;\n",
              "    }\n",
              "\n",
              "    .dataframe tbody tr th {\n",
              "        vertical-align: top;\n",
              "    }\n",
              "\n",
              "    .dataframe thead th {\n",
              "        text-align: right;\n",
              "    }\n",
              "</style>\n",
              "<table border=\"1\" class=\"dataframe\">\n",
              "  <thead>\n",
              "    <tr style=\"text-align: right;\">\n",
              "      <th></th>\n",
              "      <th>Neighborhood</th>\n",
              "      <th>1st Most Common Venue</th>\n",
              "      <th>2nd Most Common Venue</th>\n",
              "      <th>3rd Most Common Venue</th>\n",
              "      <th>4th Most Common Venue</th>\n",
              "      <th>5th Most Common Venue</th>\n",
              "      <th>6th Most Common Venue</th>\n",
              "      <th>7th Most Common Venue</th>\n",
              "      <th>Cluster</th>\n",
              "    </tr>\n",
              "  </thead>\n",
              "  <tbody>\n",
              "    <tr>\n",
              "      <th>1</th>\n",
              "      <td>Alameda de Osuna</td>\n",
              "      <td>Shop &amp; Service</td>\n",
              "      <td>Smoke Shop</td>\n",
              "      <td>Metro Station</td>\n",
              "      <td>Italian Restaurant</td>\n",
              "      <td>Chinese Restaurant</td>\n",
              "      <td>Hotel</td>\n",
              "      <td>Pizza Place</td>\n",
              "      <td>0</td>\n",
              "    </tr>\n",
              "    <tr>\n",
              "      <th>2</th>\n",
              "      <td>Apóstol Santiago</td>\n",
              "      <td>Grocery Store</td>\n",
              "      <td>Metro Station</td>\n",
              "      <td>Bakery</td>\n",
              "      <td>Flea Market</td>\n",
              "      <td>Department Store</td>\n",
              "      <td>Diner</td>\n",
              "      <td>Donut Shop</td>\n",
              "      <td>0</td>\n",
              "    </tr>\n",
              "    <tr>\n",
              "      <th>7</th>\n",
              "      <td>El Pilar</td>\n",
              "      <td>Fast Food Restaurant</td>\n",
              "      <td>Tapas Restaurant</td>\n",
              "      <td>Burger Joint</td>\n",
              "      <td>Video Game Store</td>\n",
              "      <td>Pizza Place</td>\n",
              "      <td>Frozen Yogurt Shop</td>\n",
              "      <td>General Entertainment</td>\n",
              "      <td>0</td>\n",
              "    </tr>\n",
              "    <tr>\n",
              "      <th>11</th>\n",
              "      <td>Palomas</td>\n",
              "      <td>Coffee Shop</td>\n",
              "      <td>Restaurant</td>\n",
              "      <td>Café</td>\n",
              "      <td>Asian Restaurant</td>\n",
              "      <td>Spanish Restaurant</td>\n",
              "      <td>Sandwich Place</td>\n",
              "      <td>Food Truck</td>\n",
              "      <td>0</td>\n",
              "    </tr>\n",
              "  </tbody>\n",
              "</table>\n",
              "</div>"
            ],
            "text/plain": [
              "        Neighborhood 1st Most Common Venue  ...  7th Most Common Venue Cluster\n",
              "1   Alameda de Osuna        Shop & Service  ...            Pizza Place       0\n",
              "2   Apóstol Santiago         Grocery Store  ...             Donut Shop       0\n",
              "7           El Pilar  Fast Food Restaurant  ...  General Entertainment       0\n",
              "11           Palomas           Coffee Shop  ...             Food Truck       0\n",
              "\n",
              "[4 rows x 9 columns]"
            ]
          },
          "metadata": {
            "tags": []
          },
          "execution_count": 123
        }
      ]
    },
    {
      "cell_type": "markdown",
      "metadata": {
        "id": "qx7fnkol937x",
        "colab_type": "text"
      },
      "source": [
        "All the neighborhoods with a bakery belong to the same cluster."
      ]
    }
  ]
}