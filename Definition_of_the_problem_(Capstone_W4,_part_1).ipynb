{
  "nbformat": 4,
  "nbformat_minor": 0,
  "metadata": {
    "colab": {
      "name": "Definition of the problem (Capstone - W4, part 1).ipynb",
      "provenance": [],
      "collapsed_sections": [],
      "authorship_tag": "ABX9TyNHo5ZhudxZ315Rvvr+RVkx",
      "include_colab_link": true
    },
    "kernelspec": {
      "name": "python3",
      "display_name": "Python 3"
    }
  },
  "cells": [
    {
      "cell_type": "markdown",
      "metadata": {
        "id": "view-in-github",
        "colab_type": "text"
      },
      "source": [
        "<a href=\"https://colab.research.google.com/github/JotaMTB/Coursera_Capstone/blob/master/Definition_of_the_problem_(Capstone_W4%2C_part_1).ipynb\" target=\"_parent\"><img src=\"https://colab.research.google.com/assets/colab-badge.svg\" alt=\"Open In Colab\"/></a>"
      ]
    },
    {
      "cell_type": "markdown",
      "metadata": {
        "id": "JerPHtn-R0MO",
        "colab_type": "text"
      },
      "source": [
        "## Description of the problem\n",
        "<p align=\"justify\">\n",
        "The idea is to open a <b>new bakery</b> in <i>Madrid</i>, the capital of Spain.\n",
        "<br></br>\n",
        "Madrid has more than 20 boroughs and 100 neighborhoods, but most of the new neighborhoods are in the north of the city. For that reason I am going to focus in that area where a lot of young people with children live and where large numbers of apartments are being built.\n",
        "<br></br>\n",
        "<b>Spanish people love bakeries</b>, they enjoy eating good bread, cakes, cupcakes or pies. A bakery is a good business and it is possible to open a new one by yourself or supported by a franchise.\n",
        "<br></br>\n",
        "Some neighborhoods in the north of Madrid are quite new and there are no venues enough: supermarkets, grocery stores or bakeries. Collecting the proper data, it will be possible <b>to determine the best location for a new bakery</b> or bakeries.\n",
        "</p>"
      ]
    },
    {
      "cell_type": "code",
      "metadata": {
        "id": "145-gKAESDZS",
        "colab_type": "code",
        "colab": {}
      },
      "source": [
        ""
      ],
      "execution_count": null,
      "outputs": []
    }
  ]
}